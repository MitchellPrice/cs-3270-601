{
 "cells": [
  {
   "cell_type": "markdown",
   "metadata": {},
   "source": [
    "## Py Boxes\n",
    "\n",
    "In this notes section we will have an initial discussion on python \n",
    "modules and packages, and even go through an example of creating\n",
    "our own modules and packages.  \n",
    "\n",
    "We will also be covering more content that is found in the python\n",
    "standard library.   "
   ]
  },
  {
   "cell_type": "markdown",
   "metadata": {},
   "source": [
    "## Command Line Example\n",
    "\n",
    "Lets first get started by working on the command line, we will create\n",
    "a new file named `greeting.py` that will be used to take the command\n",
    "line arguments that are passed in (which should be names) and printing\n",
    "`hello {name}` for each arguments passed in.   \n",
    "\n",
    "<Answer\n",
    "import sys\n",
    "\n",
    "for name in sys.argv[1:]:\n",
    "    print('Hello {}'.format(name))\n",
    ">"
   ]
  },
  {
   "cell_type": "code",
   "execution_count": null,
   "metadata": {
    "collapsed": true
   },
   "outputs": [],
   "source": []
  },
  {
   "cell_type": "markdown",
   "metadata": {},
   "source": [
    "## Module\n",
    "\n",
    "At this point lets create a new module, this module is going to have\n",
    "a useful header function that we can use in other programs without\n",
    "haveing to re-write it each time.   So first create a function \n",
    "`header` that will create the output below.  \n",
    "\n",
    "        ****************************************\n",
    "        *  Name: <Argument>\n",
    "        *  Class: <Arguments (default cs3270)\n",
    "        *  Section: 601\n",
    "        ****************************************\n",
    "        \n",
    "Save `header` into a new file called header.py.  Now lets create a \n",
    "new file `main.py`.  It will import the header module and then use the\n",
    "header function to print the above banner.  \n",
    "\n",
    "<Answer\n",
    "# header.py\n",
    "def header(name, cls='cs3270'):\n",
    "    print('*'*40)\n",
    "    print('* Name: {}'.format(name))\n",
    "    print('* Class: {}'.format(cls))\n",
    "    print('* Section: 601')\n",
    "    print('*'*40)\n",
    "    \n",
    "# main.py\n",
    "import sys\n",
    "sys.path.append('.')\n",
    "\n",
    "from header import header\n",
    "\n",
    "header('Mike')    \n",
    ">"
   ]
  },
  {
   "cell_type": "code",
   "execution_count": null,
   "metadata": {
    "collapsed": false
   },
   "outputs": [],
   "source": [
    " "
   ]
  },
  {
   "cell_type": "markdown",
   "metadata": {},
   "source": [
    "## Standard Library\n",
    "\n",
    "Here we are going to go through the few standard library\n",
    "items that are discussed in chapter 5.  "
   ]
  },
  {
   "cell_type": "code",
   "execution_count": 6,
   "metadata": {
    "collapsed": false
   },
   "outputs": [
    {
     "name": "stdout",
     "output_type": "stream",
     "text": [
      "{'a': 100}\n",
      "{'a': 100}\n",
      "Unknown\n",
      "defaultdict(<function my_default at 0x10c6d8048>, {'Other': 'Unknown', 'Mine': 'Mine'})\n"
     ]
    }
   ],
   "source": [
    "## Dictionary\n",
    "\n",
    "x = {}\n",
    "x.setdefault('a', 100)\n",
    "print(x)\n",
    "x.setdefault('a', 100000)\n",
    "print(x)\n",
    "\n",
    "from collections import defaultdict\n",
    "\n",
    "def my_default(*args):\n",
    "    return 'Unknown'\n",
    "x = defaultdict(my_default)\n",
    "x['Mine'] = 'Mine'\n",
    "print(x['Other'])\n",
    "print(x)"
   ]
  },
  {
   "cell_type": "code",
   "execution_count": null,
   "metadata": {
    "collapsed": true
   },
   "outputs": [],
   "source": []
  }
 ],
 "metadata": {
  "kernelspec": {
   "display_name": "Python 3",
   "language": "python",
   "name": "python3"
  },
  "language_info": {
   "codemirror_mode": {
    "name": "ipython",
    "version": 3
   },
   "file_extension": ".py",
   "mimetype": "text/x-python",
   "name": "python",
   "nbconvert_exporter": "python",
   "pygments_lexer": "ipython3",
   "version": "3.5.2"
  }
 },
 "nbformat": 4,
 "nbformat_minor": 2
}
