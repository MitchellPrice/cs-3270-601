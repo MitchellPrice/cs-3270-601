{
 "cells": [
  {
   "cell_type": "markdown",
   "metadata": {},
   "source": [
    "Notes\n",
    "==================\n",
    "\n",
    "For this section we are going to go through demonstrations of how to work with pickle\n",
    "as well as how to work with persistence systems and relational databases.  "
   ]
  },
  {
   "cell_type": "code",
   "execution_count": 1,
   "metadata": {
    "collapsed": false
   },
   "outputs": [],
   "source": [
    "import pickle\n",
    "import sqlite3\n",
    "import csv"
   ]
  },
  {
   "cell_type": "markdown",
   "metadata": {},
   "source": [
    "## Binary read/write\n",
    "\n",
    "For this first section we will start with binary reading and writing of files, as well\n",
    "as standard reading and writing of text files.  "
   ]
  },
  {
   "cell_type": "code",
   "execution_count": 2,
   "metadata": {
    "collapsed": true
   },
   "outputs": [],
   "source": [
    "## Write the contents of the variable `doc` to a file `/tmp/doc.output` as a text file\n",
    "\n",
    "doc = '''This is some data\n",
    "that I want to look a little\n",
    "more like a very large file'''\n",
    "\n",
    "with open('/tmp/doc.output', 'w') as f:\n",
    "    f.write(doc)"
   ]
  },
  {
   "cell_type": "code",
   "execution_count": 6,
   "metadata": {
    "collapsed": false
   },
   "outputs": [
    {
     "name": "stdout",
     "output_type": "stream",
     "text": [
      "This is some data\n",
      "that I want to look a little\n",
      "more like a very large file\n"
     ]
    }
   ],
   "source": [
    "## Now we need to read in the contents form the file `/tmp/doc.output` into the variable\n",
    "# new_doc and print it out. \n",
    "\n",
    "with open('/tmp/doc.output') as f:\n",
    "    new_doc = f.read()\n",
    "print(new_doc)"
   ]
  },
  {
   "cell_type": "markdown",
   "metadata": {},
   "source": [
    "## Working with pickle\n",
    "\n",
    "For this next section lets start by writing out binary data that we can work with\n",
    "using Pickle.  "
   ]
  },
  {
   "cell_type": "code",
   "execution_count": 14,
   "metadata": {
    "collapsed": false
   },
   "outputs": [
    {
     "name": "stdout",
     "output_type": "stream",
     "text": [
      "Constructor called\n",
      "chess-board 2\n"
     ]
    }
   ],
   "source": [
    "## Pickle works by serializing an object, so lets start by making an instance of\n",
    "# the game class below and saving it to `/tmp/game.out`\n",
    "\n",
    "class Game:\n",
    "    def __init__(self, name, style='board'):\n",
    "        print('Constructor called')\n",
    "        self.name = name\n",
    "        self.style = style\n",
    "        self.round = 0\n",
    "        \n",
    "    def play(self):\n",
    "        self.round += 1\n",
    "        \n",
    "    def __str__(self):\n",
    "        return '{}-{} {}'.format(self.name, self.style, self.round)\n",
    "    \n",
    "x = Game('chess')\n",
    "x.play()\n",
    "x.play()\n",
    "print(x)\n",
    "\n",
    "with open('/tmp/my-game.out', 'wb') as f:\n",
    "    pickle.dump(x, f)"
   ]
  },
  {
   "cell_type": "code",
   "execution_count": 15,
   "metadata": {
    "collapsed": false
   },
   "outputs": [
    {
     "name": "stdout",
     "output_type": "stream",
     "text": [
      "chess-board 3\n"
     ]
    }
   ],
   "source": [
    "## Now lets load our instance and play it again and print the results\n",
    "\n",
    "with open('/tmp/my-game.out','rb') as f:\n",
    "    z = pickle.load(f)\n",
    "\n",
    "z.play()\n",
    "print(z)"
   ]
  },
  {
   "cell_type": "markdown",
   "metadata": {},
   "source": [
    "## CSV Files\n",
    "\n",
    "So we will have a quick overview of csv reading and writing with python. "
   ]
  },
  {
   "cell_type": "code",
   "execution_count": 16,
   "metadata": {
    "collapsed": false
   },
   "outputs": [],
   "source": [
    "## For this simple example we will write out the data below into the file `/tmp/output.csv`\n",
    "\n",
    "data = [[1, 'Mike', 'Draper'], [2, 'Other', 'City']]\n",
    "\n",
    "with open('/tmp/output.csv', 'w') as f:\n",
    "    cf = csv.writer(f)\n",
    "    cf.writerows(data)"
   ]
  },
  {
   "cell_type": "code",
   "execution_count": 18,
   "metadata": {
    "collapsed": false
   },
   "outputs": [
    {
     "name": "stdout",
     "output_type": "stream",
     "text": [
      "[['1', 'Mike', 'Draper'], ['2', 'Other', 'City']]\n"
     ]
    }
   ],
   "source": [
    "## For this section we will just read in the csv file to `new_data` and then print it out\n",
    "\n",
    "with open('/tmp/output.csv') as f:\n",
    "    new_data = list(csv.reader(f))\n",
    "print(new_data)"
   ]
  },
  {
   "cell_type": "markdown",
   "metadata": {},
   "source": [
    "## Relational Databases\n",
    "\n",
    "For this next example we are going to go over relational databases.  "
   ]
  },
  {
   "cell_type": "code",
   "execution_count": null,
   "metadata": {
    "collapsed": false
   },
   "outputs": [],
   "source": []
  },
  {
   "cell_type": "code",
   "execution_count": null,
   "metadata": {
    "collapsed": true
   },
   "outputs": [],
   "source": []
  }
 ],
 "metadata": {
  "kernelspec": {
   "display_name": "Python 3",
   "language": "python",
   "name": "python3"
  },
  "language_info": {
   "codemirror_mode": {
    "name": "ipython",
    "version": 3
   },
   "file_extension": ".py",
   "mimetype": "text/x-python",
   "name": "python",
   "nbconvert_exporter": "python",
   "pygments_lexer": "ipython3",
   "version": "3.5.2"
  }
 },
 "nbformat": 4,
 "nbformat_minor": 2
}
