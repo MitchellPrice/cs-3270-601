{
 "cells": [
  {
   "cell_type": "markdown",
   "metadata": {},
   "source": [
    "Chapter 3 - Py Filling\n",
    "==============================\n",
    "\n",
    "This notebook takes up where 03-Py-Filling left off, and provides a single\n",
    "exercise for working with sets and set operations.  \n",
    "\n",
    "For this notebook we specifically cover the below items:  \n",
    "\n",
    "* sets"
   ]
  },
  {
   "cell_type": "code",
   "execution_count": 1,
   "metadata": {
    "collapsed": true
   },
   "outputs": [],
   "source": [
    "from pprint import pprint\n",
    "import random\n",
    "import sys\n",
    "sys.path.insert(0, './notes-03')"
   ]
  },
  {
   "cell_type": "markdown",
   "metadata": {},
   "source": [
    "## Exercise 1\n",
    "\n",
    "For this first (and only) exercise, we are going to get more familiar\n",
    "with set operations and how they work inside of python.  \n",
    "\n",
    "We will start by taking a \"database\", players, that is defined below\n",
    "and running operations against the database. \n",
    "\n",
    "1. Create a dict of all series games keyed by series type\n",
    "  * each of the entries should be a dict with year, winners (set), losers (set) and games played (set)\n",
    "2. Print out all world series\n",
    "3. Print the years the world series went all 7 games (sorted)\n",
    "4. Print the winners of world series, with how many world series that they have won\n",
    "\n",
    "<Answer: \n",
    "part 1\n",
    "series_dict = {}\n",
    "for series in season_series:\n",
    "    if series[1] not in series_dict:\n",
    "        series_dict[series[1]] = list()\n",
    "    series_dict[series[1]].append(\n",
    "        {'year': series[0], \n",
    "         'winners': (series[2:4]), \n",
    "         'losers': (series[4:6]), \n",
    "         'games': {series[6:]}})\n",
    "         \n",
    "part 2\n",
    "world_series = series_dict['WS']\n",
    "# pprint(world_series)\n",
    "\n",
    "part 3\n",
    "seven_games = []\n",
    "for year in world_series:\n",
    "    if {(4, 3, 0)} & year['games']:\n",
    "        seven_games.append(year['year'])\n",
    "seven_games.sort()\n",
    "pprint(seven_games) \n",
    "\n",
    "part 4\n",
    "winners = {}\n",
    "for year in world_series:\n",
    "    winner = year['winners']\n",
    "    if winner[1] in winners:\n",
    "        winners[winner[0]] += 1\n",
    "    else:\n",
    "        winners[winner[0]] = 1\n",
    "pprint(winners)\n",
    ">"
   ]
  },
  {
   "cell_type": "code",
   "execution_count": 2,
   "metadata": {
    "collapsed": false
   },
   "outputs": [
    {
     "name": "stdout",
     "output_type": "stream",
     "text": [
      "[(1995, 'ALDS1', 'CLE', 'AL', 'BOS', 'AL', 3, 0, 0)]\n"
     ]
    }
   ],
   "source": [
    "from series import season_series\n",
    "\n",
    "# season_stats format\n",
    "# year,round,winner,win_name,loser,loser_name,wins,losses,ties\n",
    "print(random.sample(season_series, 1))"
   ]
  },
  {
   "cell_type": "code",
   "execution_count": 3,
   "metadata": {
    "collapsed": false
   },
   "outputs": [],
   "source": [
    "# Part 1"
   ]
  },
  {
   "cell_type": "code",
   "execution_count": 4,
   "metadata": {
    "collapsed": true
   },
   "outputs": [],
   "source": [
    "# Part 2"
   ]
  },
  {
   "cell_type": "code",
   "execution_count": 5,
   "metadata": {
    "collapsed": false
   },
   "outputs": [],
   "source": [
    "# Part 3   "
   ]
  },
  {
   "cell_type": "code",
   "execution_count": 6,
   "metadata": {
    "collapsed": false
   },
   "outputs": [],
   "source": [
    "# Part 4"
   ]
  },
  {
   "cell_type": "code",
   "execution_count": null,
   "metadata": {
    "collapsed": true
   },
   "outputs": [],
   "source": []
  }
 ],
 "metadata": {
  "kernelspec": {
   "display_name": "Python 3",
   "language": "python",
   "name": "python3"
  },
  "language_info": {
   "codemirror_mode": {
    "name": "ipython",
    "version": 3
   },
   "file_extension": ".py",
   "mimetype": "text/x-python",
   "name": "python",
   "nbconvert_exporter": "python",
   "pygments_lexer": "ipython3",
   "version": "3.5.2"
  }
 },
 "nbformat": 4,
 "nbformat_minor": 2
}
