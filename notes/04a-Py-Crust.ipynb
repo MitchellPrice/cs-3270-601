{
 "cells": [
  {
   "cell_type": "markdown",
   "metadata": {},
   "source": [
    "Chapter 4a - Py Crust\n",
    "==============================\n",
    "\n",
    "In this chapter we are starting to cover the meat of python, how we\n",
    "can take the other tid-bits and create in depth applications.  \n",
    "\n",
    "For this chapter we specifically cover the below items:  \n",
    "\n",
    "* comments\n",
    "* conditions\n",
    "* looping, iterating\n",
    "* list comprehension\n",
    "* functions\n",
    "* generators\n",
    "* decorators\n",
    "* namespaces\n",
    "* exceptions"
   ]
  },
  {
   "cell_type": "markdown",
   "metadata": {},
   "source": [
    "## Exercise 1\n",
    "\n",
    "_Playing with zip_   \n",
    "\n",
    "In this exercise we are going to use the zip mechanism to combine two\n",
    "seperate lists into a tuple and then create a dictionary out of that\n",
    "list.  \n",
    "\n",
    "1. Combine the two lists into a new list of tuples (without zip)\n",
    "2. Combine the two lists into a new list of tuples (with zip)\n",
    "3. Create a dictionary from the results of step 2\n",
    "\n",
    "<Answer\n",
    "\n",
    "together = []\n",
    "max_length = len(days)\n",
    "if len(activity) < len(days):\n",
    "    max_length = len(activity)\n",
    "for i in range(max_length):\n",
    "    together.append((days[i], activity[i],))\n",
    "print(together)    \n",
    "\n",
    "together = list(zip(days, activity))\n",
    "print(together)\n",
    "\n",
    "result = dict(together)\n",
    "print(result)\n",
    ">"
   ]
  },
  {
   "cell_type": "code",
   "execution_count": null,
   "metadata": {
    "collapsed": false
   },
   "outputs": [],
   "source": [
    "days = ['Monday', 'Tuesday', 'Wednesday', 'Thursday', 'Friday', 'Saturday']\n",
    "activity = ['Swimming', 'Basketball', 'Volleyball', 'Biking', 'Shooting']"
   ]
  },
  {
   "cell_type": "markdown",
   "metadata": {},
   "source": [
    "## Exercise 2\n",
    "\n",
    "_Playing with comprehension_  \n",
    "\n",
    "In this exercise we are going to be using comprehensions to become\n",
    "more familar with the power and syntax that it uses.  \n",
    "\n",
    "1. Create a new list of the values 0 to 20 using range\n",
    "2. Square all values in list using list comprehension\n",
    "3. Create a list of values that are just prime numbers from list"
   ]
  },
  {
   "cell_type": "code",
   "execution_count": null,
   "metadata": {
    "collapsed": true
   },
   "outputs": [],
   "source": []
  },
  {
   "cell_type": "markdown",
   "metadata": {},
   "source": [
    "## Exercise 3\n",
    "\n",
    "_Function Examples_  \n",
    "\n",
    "* Create a function that returns the sum of 2 numbers squared\n",
    " * Call the function with positional params\n",
    " * Call the function with named params\n",
    "   \n",
    "<Answer\n",
    "def squared(a, b):\n",
    "    return a**2 + b**2\n",
    "\n",
    "print(squared(2, 3))\n",
    "print(squared(a=2, b=3))\n",
    ">"
   ]
  },
  {
   "cell_type": "code",
   "execution_count": null,
   "metadata": {
    "collapsed": true
   },
   "outputs": [],
   "source": []
  },
  {
   "cell_type": "markdown",
   "metadata": {},
   "source": [
    "* Create a function that implements the below algorithm\n",
    " * f(n)=f(n-1)+2n when n>0\n",
    " * f(0)=1\n",
    "\n",
    "<Answer\n",
    "def f(n):\n",
    "    if n == 0:\n",
    "        return 1\n",
    "    return f(n-1) + 2*n\n",
    "\n",
    "print(f(4))\n",
    ">"
   ]
  },
  {
   "cell_type": "code",
   "execution_count": null,
   "metadata": {
    "collapsed": true
   },
   "outputs": [],
   "source": []
  },
  {
   "cell_type": "markdown",
   "metadata": {},
   "source": [
    "* Create a function that will take a dynamic number of arguments\n",
    "  and multiplies them together, returning the result\n",
    "  \n",
    "<Answer\n",
    "def multiplier(*args):\n",
    "    sum = 1\n",
    "    for i in args:\n",
    "        sum *= i\n",
    "    return sum\n",
    "\n",
    "print(multiplier(2, 4, 6))\n",
    ">"
   ]
  },
  {
   "cell_type": "code",
   "execution_count": null,
   "metadata": {
    "collapsed": false
   },
   "outputs": [],
   "source": []
  },
  {
   "cell_type": "markdown",
   "metadata": {},
   "source": [
    "## Exercise 4\n",
    "\n",
    "_Generator, Decorators and Functional Programming_   \n",
    "\n",
    "For this exercise we are going to be working some of the more advanced\n",
    "aspects of functions and get into (briefly) functional programming.   \n",
    "\n",
    "* Create a function that acts as a generator for fibonacci sequence\n",
    "  * 0, 1, 1, 2, 3, 5, 8, 13, 21...\n",
    " \n",
    "<Answer\n",
    "def fib_generator():\n",
    "    p = 0\n",
    "    l = 1\n",
    "    yield p\n",
    "    yield l\n",
    "    while True:\n",
    "        p, l = l, p + l\n",
    "        yield l      \n",
    ">"
   ]
  },
  {
   "cell_type": "code",
   "execution_count": null,
   "metadata": {
    "collapsed": true
   },
   "outputs": [],
   "source": []
  },
  {
   "cell_type": "markdown",
   "metadata": {},
   "source": [
    "* Create a decorator named (logit) that will log when a method is\n",
    "  called and when it is complete (with the result)\n",
    "  * Test it on a function that returns the sum of two numbers\n",
    "  \n",
    "<Answer\n",
    "def logit(func):\n",
    "    def func_wrapper(*args, **kargs):\n",
    "        print('Function called')\n",
    "        result = func(*args, **kargs)\n",
    "        print('Complete, result: {}'.format(result))\n",
    "        return result\n",
    "    return func_wrapper\n",
    "\n",
    "@logit\n",
    "def add(a, b):\n",
    "    return a + b\n",
    "\n",
    "print(add(1, 2))\n",
    ">"
   ]
  },
  {
   "cell_type": "code",
   "execution_count": null,
   "metadata": {
    "collapsed": false
   },
   "outputs": [],
   "source": []
  },
  {
   "cell_type": "markdown",
   "metadata": {},
   "source": [
    "* Create a function (filter) that takes a sequence and a func\n",
    "  and returns a sequence where the items are those that the func\n",
    "  returns True\n",
    "  * Filter a list of numbers for numbers divisible by 3\n",
    "  * Filter a string where string is not empty string\n",
    "  \n",
    "<Answer\n",
    "def filter(l, f):\n",
    "    return [i for i in l if f(i)]\n",
    "\n",
    "print(filter([1, 2, 3, 4, 5, 6, 7, 8, 9, 10], lambda x: x % 3 == 0))\n",
    "print(filter(['all', '', 'these', '', 'words'], len))\n",
    ">"
   ]
  },
  {
   "cell_type": "code",
   "execution_count": null,
   "metadata": {
    "collapsed": true
   },
   "outputs": [],
   "source": []
  },
  {
   "cell_type": "markdown",
   "metadata": {},
   "source": [
    "## Exercise 5\n",
    "\n",
    "_Scopes and Exceptions_   \n",
    "\n",
    "For this exercise section we are going to get more familiar with both\n",
    "scopes and exceptions.  \n",
    "\n",
    "* Get familiar with scope\n",
    "  * Create a variable `x = 1` and print out the globals()\n",
    "  * Create a function that prints out the value of the global variable `x`  \n",
    "  * In the same function, after printing, set `x` to 1\n",
    "  * Add the statement `global x` as the first line in the function\n",
    "   \n",
    "<Answer\n",
    "x = 1\n",
    "#globals()\n",
    "\n",
    "def test():\n",
    "    global x\n",
    "    print(x)\n",
    "    x = 2\n",
    "\n",
    "test()\n",
    "print(x)\n",
    ">"
   ]
  },
  {
   "cell_type": "code",
   "execution_count": null,
   "metadata": {
    "collapsed": false
   },
   "outputs": [],
   "source": []
  },
  {
   "cell_type": "markdown",
   "metadata": {},
   "source": [
    "* Read a number from the user and keep asking until they input a valid\n",
    "   number\n",
    "   \n",
    "<Answer\n",
    "result = None\n",
    "while not result:\n",
    "    try:\n",
    "        result = int(input('Give me a number: '))\n",
    "    #except:\n",
    "    except ValueError:\n",
    "        print('Invalid entry')\n",
    "        result = None\n",
    "print(2)\n",
    ">"
   ]
  },
  {
   "cell_type": "code",
   "execution_count": null,
   "metadata": {
    "collapsed": true
   },
   "outputs": [],
   "source": []
  }
 ],
 "metadata": {
  "kernelspec": {
   "display_name": "Python 3",
   "language": "python",
   "name": "python3"
  },
  "language_info": {
   "codemirror_mode": {
    "name": "ipython",
    "version": 3
   },
   "file_extension": ".py",
   "mimetype": "text/x-python",
   "name": "python",
   "nbconvert_exporter": "python",
   "pygments_lexer": "ipython3",
   "version": "3.5.2"
  }
 },
 "nbformat": 4,
 "nbformat_minor": 2
}
