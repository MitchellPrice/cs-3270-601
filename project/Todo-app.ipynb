{
 "cells": [
  {
   "cell_type": "markdown",
   "metadata": {},
   "source": [
    "Todo App\n",
    "--------------------------------\n",
    "\n",
    "So for today's class we are going to take the knowledge we went over last time and build\n",
    "an application.  \n",
    "\n",
    "TODO!!!! (Yeah I know original)   \n",
    "\n",
    "- We will be using tkinter for the UI and backing the system in a sqlite database.  "
   ]
  },
  {
   "cell_type": "markdown",
   "metadata": {},
   "source": [
    "## Steps\n",
    "\n",
    "1. We are going to create our base application in a module fashion broken down into 3 pieces\n",
    "  - main.py module\n",
    "  - ui package (with a todolist.py module)\n",
    "  - db package (with a database.py module)\n",
    "2. Setup the main.py module to create the root Tk\n",
    "3. Bind the database and the root Tk to the ui\n",
    "4. Implement the database functionality\n",
    "  - Create a database if file does not exist\n",
    "  - Insert test data on database creation\n",
    "  - Create an `create_todo` command to create new todos\n",
    "  - Create a `complete_todo` command\n",
    "  - Create a `list_todo` command to list todos\n",
    "  - Create an `open_db` command to allow the system to change databases\n",
    "5. Implement the ui functionality\n",
    "  - Create a menu system that has open, togglecomplete, exit\n",
    "  - Create an about option in menu to display an about dialog\n",
    "  - Create the frame to list all todos\n",
    "  - Checkbutton todos to mark completed\n",
    "  - Create a todo entry section to add new todos\n"
   ]
  },
  {
   "cell_type": "code",
   "execution_count": null,
   "metadata": {
    "collapsed": true
   },
   "outputs": [],
   "source": []
  }
 ],
 "metadata": {
  "kernelspec": {
   "display_name": "Python 3",
   "language": "python",
   "name": "python3"
  },
  "language_info": {
   "codemirror_mode": {
    "name": "ipython",
    "version": 3
   },
   "file_extension": ".py",
   "mimetype": "text/x-python",
   "name": "python",
   "nbconvert_exporter": "python",
   "pygments_lexer": "ipython3",
   "version": "3.5.2"
  }
 },
 "nbformat": 4,
 "nbformat_minor": 2
}
