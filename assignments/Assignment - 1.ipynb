{
 "cells": [
  {
   "cell_type": "markdown",
   "metadata": {},
   "source": [
    "CS 3270 (Python) Homework 1\n",
    "---------------------------------------------------------------\n",
    "\n",
    "\n",
    "\n",
    "Chapter 1\n",
    "1. Write a program that prompts the user for a sequence of integers one at a time from\n",
    "the console (ending with an empty Return) and prints the following:\n",
    "a. All of the numbers in a list, in the order they were received\n",
    "b. Print the sum, minimum, maximum, median and average of the numbers (the\n",
    "median is the middle number in sorted order if the length of the list is odd;\n",
    "otherwise it is the average of the middle two numbers in sorted order)\n",
    "2. Write a Stack class that uses a list for its internal data. It’s easy to use a list as a\n",
    "stack by treating the end of the list as the top of the stack, and then using list’s\n",
    "append and pop methods. Supply the user with push, pop, top, and size methods\n",
    "(your pop should return nothing: just remove the “top” (last) element). Test by\n",
    "pushing the numbers 1 through 10, and then popping and printing them one at a\n",
    "time.\n",
    "3. Write a function num(n) that returns the nth number from the sequence 2, 4, 7, 11,\n",
    "16, 22,... Note that difference between the numbers is 2, 3, 4, 5, 6, ..., respectively.\n",
    "4. Write a function, mysqrt(a,g), that computes the square root of a (can be a real\n",
    "number) by the following formula: x n+1 = (x n + a/x n ) / 2. The input number, g, is the\n",
    "first guess (x 0 ). This is plugged into the formula for x n to compute the next guess, x 1 .\n",
    "Continue until the difference between the current guess and the previous guess is\n",
    "less than .00005. Print out the number of iterations (n) and then return your last\n",
    "guess. Then compute and print the difference between your answer and\n",
    "math.sqrt(a). You’ll need to import the math module."
   ]
  },
  {
   "cell_type": "markdown",
   "metadata": {},
   "source": [
    "## Program 1 \n",
    "\n",
    "Write a program that prompts the user for a sequence of integers one at a time from\n",
    "the console (ending with an empty Return) and does the following:\n",
    "\n",
    "1. Stores all the inputs in a list in the order they were received.  \n",
    "2. Calculate the sum, minimum, maximum, median and average of the list (the median is the middle number in sorted order if the length of the list is odd; otherwise it is the average of the middle two numbers in sorted order)    "
   ]
  },
  {
   "cell_type": "markdown",
   "metadata": {},
   "source": [
    "    ## Sample Run\n",
    "    Enter an integer (Return to quit): 1\n",
    "    Enter an integer (Return to quit): 2\n",
    "    Enter an integer (Return to quit): 3\n",
    "    Enter an integer (Return to quit): 4\n",
    "    Enter an integer (Return to quit): 5\n",
    "    Enter an integer (Return to quit): \n",
    "    Numbers: [1, 2, 3, 4, 5]\n",
    "    sum = 15 min = 1 max = 5 average = 3.0 median = 3"
   ]
  },
  {
   "cell_type": "code",
   "execution_count": 1,
   "metadata": {
    "collapsed": false
   },
   "outputs": [
    {
     "name": "stdout",
     "output_type": "stream",
     "text": [
      "[]\n",
      "sum = 0 min = 0 max = 0 average = 0 median = 0 "
     ]
    }
   ],
   "source": [
    "## Solution\n",
    "\n",
    "import sys\n",
    "\n",
    "nums = []\n",
    "## Place the input code here\n",
    "\n",
    "num_sum = 0\n",
    "num_min = 0\n",
    "num_max = 0\n",
    "num_avg = 0\n",
    "num_med = 0\n",
    "\n",
    "print(nums)\n",
    "print(\"sum =\",num_sum,end=\" \")\n",
    "print(\"min =\",num_min,end=\" \")\n",
    "print(\"max =\",num_max,end=\" \")\n",
    "print(\"average =\",num_avg,end=\" \")\n",
    "print(\"median =\",num_med,end=\" \")"
   ]
  },
  {
   "cell_type": "markdown",
   "metadata": {},
   "source": [
    "## Program 2\n",
    "\n",
    "Write a Stack class that uses a list for its internal data. It’s easy to use a list as a stack by treating the end of the list as the top of the stack, and then using list’s append and pop methods. Supply the user with push, pop, top, and size methods (your pop should return nothing: just remove the “top” (last) element). Test by pushing the numbers 1 through 10, and then popping and printing them one at a time."
   ]
  },
  {
   "cell_type": "code",
   "execution_count": 2,
   "metadata": {
    "collapsed": true
   },
   "outputs": [],
   "source": [
    "## Stack Test\n",
    "\n",
    "class Stack(object):\n",
    "    def __init__(self):\n",
    "        pass\n",
    "    def push(self,x):\n",
    "        pass\n",
    "    def pop(self):\n",
    "        pass\n",
    "    def top(self):\n",
    "        pass\n",
    "    def size(self):\n",
    "        pass"
   ]
  },
  {
   "cell_type": "code",
   "execution_count": null,
   "metadata": {
    "collapsed": false
   },
   "outputs": [],
   "source": [
    "## Solution Test\n",
    "\n",
    "stk = Stack()\n",
    "for n in range(1,11):\n",
    "    stk.push(n)\n",
    "    \n",
    "assert(stk.top() == 10)\n",
    "stk.pop()\n",
    "assert(stk.top() == 9)\n",
    "stk.pop()\n",
    "assert(stk.top() == 8)\n",
    "stk.pop()\n",
    "stk.pop()\n",
    "stk.pop()\n",
    "assert(stk.top() == 5)\n",
    "stk.pop()\n",
    "stk.pop()\n",
    "assert(stk.top() == 3)\n",
    "stk.pop()\n",
    "stk.pop()\n",
    "assert(stk.top() == 1)\n",
    "stk.pop()\n",
    "assert(stk.size() == 0)\n",
    "\n",
    "print(\"Tests Complete\")"
   ]
  },
  {
   "cell_type": "markdown",
   "metadata": {},
   "source": [
    "## Program 3\n",
    "\n",
    "Write a function num(n) that returns the nth number from the sequence 2, 4, 7, 11, 16, 22,... \n",
    "Note that difference between the numbers is 2, 3, 4, 5, 6, ..., respectively."
   ]
  },
  {
   "cell_type": "code",
   "execution_count": 3,
   "metadata": {
    "collapsed": false
   },
   "outputs": [
    {
     "name": "stdout",
     "output_type": "stream",
     "text": [
      "0\n",
      "0\n"
     ]
    }
   ],
   "source": [
    "## Solution\n",
    "\n",
    "def num(n):\n",
    "    return 0\n",
    "\n",
    "print(num(0))\n",
    "print(num(1))"
   ]
  },
  {
   "cell_type": "code",
   "execution_count": null,
   "metadata": {
    "collapsed": false
   },
   "outputs": [],
   "source": [
    "## Solution Tests\n",
    "\n",
    "assert(num(0) == 2)\n",
    "assert(num(1) == 4)\n",
    "assert(num(2) == 7)\n",
    "assert(num(3) == 11)\n",
    "assert(num(4) == 16)\n",
    "assert(num(5) == 22)\n",
    "assert(num(6) == 29)\n",
    "assert(num(7) == 37)\n",
    "\n",
    "print(\"Tests Complete\")"
   ]
  },
  {
   "cell_type": "markdown",
   "metadata": {},
   "source": [
    "## Program 4\n",
    "\n",
    "Write a function, mysqrt(a,g), that computes the square root of a (can be a real number) by the following formula: x n+1 = (x n + a/x n ) / 2. The input number, g, is the first guess (x 0 ). This is plugged into the formula for x n to compute the next guess, x 1 . Continue until the difference between the current guess and the previous guess is less than .00005. Return a tuple that contains the number of iterations and your last guess.  "
   ]
  },
  {
   "cell_type": "code",
   "execution_count": 4,
   "metadata": {
    "collapsed": true
   },
   "outputs": [],
   "source": [
    "## Solution\n",
    "\n",
    "def mysqrt(a,g):\n",
    "    return (0, 0)"
   ]
  },
  {
   "cell_type": "code",
   "execution_count": null,
   "metadata": {
    "collapsed": false
   },
   "outputs": [],
   "source": [
    "## Solution Tests\n",
    "\n",
    "import math\n",
    "\n",
    "iterations, ans = mysqrt(16.0,1.0)\n",
    "assert(iterations == 6)\n",
    "error = abs(ans - math.sqrt(16.0))\n",
    "assert(error < 10e-13)\n",
    "print(error)\n",
    "\n",
    "iterations, ans = mysqrt(2.0, 1.0)\n",
    "assert(iterations == 4)\n",
    "error = abs(ans - math.sqrt(2.0))\n",
    "assert(error < 10e-12)\n",
    "print(error)\n",
    "\n",
    "print(\"Tests Complete\")"
   ]
  },
  {
   "cell_type": "code",
   "execution_count": null,
   "metadata": {
    "collapsed": true
   },
   "outputs": [],
   "source": []
  }
 ],
 "metadata": {
  "kernelspec": {
   "display_name": "Python 3",
   "language": "python",
   "name": "python3"
  },
  "language_info": {
   "codemirror_mode": {
    "name": "ipython",
    "version": 3
   },
   "file_extension": ".py",
   "mimetype": "text/x-python",
   "name": "python",
   "nbconvert_exporter": "python",
   "pygments_lexer": "ipython3",
   "version": "3.6.0"
  }
 },
 "nbformat": 4,
 "nbformat_minor": 2
}
