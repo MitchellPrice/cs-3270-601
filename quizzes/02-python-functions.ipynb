{
 "cells": [
  {
   "cell_type": "markdown",
   "metadata": {},
   "source": [
    "Quiz 2 - Python Functions\n",
    "=======================\n",
    "\n",
    "This is the second quiz in the class, be sure to answer the questions to the best of your\n",
    "ability, and do not worry about being wrong, quizzes are extra credit only, so failing a\n",
    "quiz will not result in any negative effects on your existing grade.   \n",
    "\n",
    "## Summary\n",
    "\n",
    "For this question please answer on a piece of paper and be sure to add the following to the \n",
    "**top left** of the paper.  \n",
    "\n",
    "        <Name>\n",
    "        <UVU Id>\n",
    "        \n",
    "This quiz will consist of a few questions and you will have 10 minutes to answer them after which\n",
    "we will have other students grade the papers.  For you to receive create the grader must put\n",
    "the following information on the **top right** of the paper.  \n",
    "\n",
    "        Grader: \n",
    "        <Name>\n",
    "        <UVU Id>\n",
    "        \n",
    "The quiz will have 4 questions, in them, each question will be worth the points placed along\n",
    "side them in the description below.  They will be all or nothing for the most part, a couple\n",
    "of them may get partial points, but that will be shown during grading.  \n",
    "\n",
    "For this quiz the total number of points possible is: **15**   \n",
    "\n",
    "<You should not see this.> "
   ]
  },
  {
   "cell_type": "markdown",
   "metadata": {},
   "source": [
    "## Question 1\n",
    "\n",
    "**2 Points** <No partial>\n",
    "\n",
    "*Is the following statement true?*  \n",
    "\n",
    "        Python is a pure functional language.     \n",
    "\n",
    "<Answer: False>"
   ]
  },
  {
   "cell_type": "code",
   "execution_count": 1,
   "metadata": {
    "collapsed": false
   },
   "outputs": [
    {
     "data": {
      "text/plain": [
       "False"
      ]
     },
     "execution_count": 1,
     "metadata": {},
     "output_type": "execute_result"
    }
   ],
   "source": [
    "False"
   ]
  },
  {
   "cell_type": "markdown",
   "metadata": {},
   "source": [
    "## Question 2\n",
    "\n",
    "**3 Points** <No Partial>\n",
    "\n",
    "Create an annonymous function that will take a single argument and print the argument.  \n",
    "        \n",
    "<Answer: lambda x: print(x) >"
   ]
  },
  {
   "cell_type": "code",
   "execution_count": 4,
   "metadata": {
    "collapsed": false
   },
   "outputs": [
    {
     "name": "stdout",
     "output_type": "stream",
     "text": [
      "Hi\n"
     ]
    }
   ],
   "source": [
    "x = lambda x: print(x)\n",
    "x('Hi')"
   ]
  },
  {
   "cell_type": "markdown",
   "metadata": {},
   "source": [
    "## Question 3\n",
    "\n",
    "**5 Points** <Partial: 2 if they used yield, 3 if they got the method right>\n",
    "\n",
    "Create a generator named `even_numbers` that takes no arguments but will generate the values in the \n",
    "sequence of all even numbers defined here:\n",
    "\n",
    "    2, 4, 6, 8, 10, 12, 14...\n",
    "\n",
    "<Answer\n",
    "def even_numbers():\n",
    "    x = 2\n",
    "    while True:\n",
    "        yield x\n",
    "        x += 2\n",
    "        \n",
    "for x in even_numbers():\n",
    "    if x  50:\n",
    "        break\n",
    "    print(x)\n",
    ">"
   ]
  },
  {
   "cell_type": "code",
   "execution_count": 5,
   "metadata": {
    "collapsed": false
   },
   "outputs": [
    {
     "name": "stdout",
     "output_type": "stream",
     "text": [
      "2 4 6 8 10 12 14 16 18 20 22 24 26 28 30 32 34 36 38 40 42 44 46 48 50 "
     ]
    }
   ],
   "source": [
    "def even_numbers():\n",
    "    x = 2\n",
    "    while True:\n",
    "        yield x\n",
    "        x += 2\n",
    "        \n",
    "for x in even_numbers():\n",
    "    if x > 50:\n",
    "        break\n",
    "    print(x, end=' ')"
   ]
  },
  {
   "cell_type": "markdown",
   "metadata": {},
   "source": [
    "## Question 4\n",
    "\n",
    "**5 Points** <Partial: 2 if the used arg expanding, 3 if they created correct inner function>\n",
    "\n",
    "Create a decorator named `hello` that takes no arguments but will append a print message\n",
    "`Hello World!` before running the decorated function.  \n",
    "\n",
    "<Answer: \n",
    "def hello(func):\n",
    "    def inner(*args, **kwargs):\n",
    "        print('Hello World!')\n",
    "        return func(*args, **kwargs)\n",
    "    return inner\n",
    "    \n",
    "@hello\n",
    "def test(x):\n",
    "    print(x)\n",
    ">"
   ]
  },
  {
   "cell_type": "code",
   "execution_count": 6,
   "metadata": {
    "collapsed": false
   },
   "outputs": [
    {
     "name": "stdout",
     "output_type": "stream",
     "text": [
      "Hello World!\n",
      "Me\n"
     ]
    }
   ],
   "source": [
    "# def hello():\n",
    "#     def my_decorator(func):\n",
    "#         def inner(*args, **kwargs):\n",
    "#             print('Hello World!')\n",
    "#             return func(*args, **kwargs)\n",
    "#         return inner\n",
    "#     return my_decorator\n",
    "\n",
    "def hello(func):\n",
    "    def inner(*args, **kwargs):\n",
    "        print('Hello World!')\n",
    "        return func(*args, **kwargs)\n",
    "    return inner\n",
    "\n",
    "@hello\n",
    "def test(x):\n",
    "    print(x)\n",
    "    \n",
    "test('Me')"
   ]
  },
  {
   "cell_type": "code",
   "execution_count": null,
   "metadata": {
    "collapsed": true
   },
   "outputs": [],
   "source": []
  }
 ],
 "metadata": {
  "kernelspec": {
   "display_name": "Python 3",
   "language": "python",
   "name": "python3"
  },
  "language_info": {
   "codemirror_mode": {
    "name": "ipython",
    "version": 3
   },
   "file_extension": ".py",
   "mimetype": "text/x-python",
   "name": "python",
   "nbconvert_exporter": "python",
   "pygments_lexer": "ipython3",
   "version": "3.5.2"
  }
 },
 "nbformat": 4,
 "nbformat_minor": 2
}
