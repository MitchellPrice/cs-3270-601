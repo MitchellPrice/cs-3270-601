{
 "cells": [
  {
   "cell_type": "markdown",
   "metadata": {},
   "source": [
    "Chapter 4a - Py Crust\n",
    "==============================\n",
    "\n",
    "In this chapter we are starting to cover the meat of python, how we\n",
    "can take the other tid-bits and create in depth applications.  \n",
    "\n",
    "For this chapter we specifically cover the below items:  \n",
    "\n",
    "* comments\n",
    "* conditions\n",
    "* looping, iterating\n",
    "* list comprehension\n",
    "* functions\n",
    "* generators\n",
    "* decorators\n",
    "* namespaces\n",
    "* exceptions"
   ]
  },
  {
   "cell_type": "markdown",
   "metadata": {},
   "source": [
    "## Exercise 1\n",
    "\n",
    "_Playing with zip_   \n",
    "\n",
    "In this exercise we are going to use the zip mechanism to combine two\n",
    "seperate lists into a tuple and then create a dictionary out of that\n",
    "list.  \n",
    "\n",
    "1. Combine the two lists into a new list of tuples (without zip)\n",
    "2. Combine the two lists into a new list of tuples (with zip)\n",
    "3. Create a dictionary from the results of step 2\n",
    "\n",
    "<Answer\n",
    "\n",
    "together = []\n",
    "max_length = len(days)\n",
    "if len(activity) < len(days):\n",
    "    max_length = len(activity)\n",
    "for i in range(max_length):\n",
    "    together.append((days[i], activity[i],))\n",
    "print(together)    \n",
    "\n",
    "together = list(zip(days, activity))\n",
    "print(together)\n",
    "\n",
    "result = dict(together)\n",
    "print(result)\n",
    ">"
   ]
  },
  {
   "cell_type": "code",
   "execution_count": 10,
   "metadata": {
    "collapsed": false
   },
   "outputs": [
    {
     "name": "stdout",
     "output_type": "stream",
     "text": [
      "[('Monday', 'Swimming'), ('Tuesday', 'Basketball'), ('Wednesday', 'Volleyball'), ('Thursday', 'Biking'), ('Friday', 'Shooting')]\n",
      "{'Friday': 'Shooting',\n",
      " 'Monday': 'Swimming',\n",
      " 'Thursday': 'Biking',\n",
      " 'Tuesday': 'Basketball',\n",
      " 'Wednesday': 'Volleyball'}\n"
     ]
    }
   ],
   "source": [
    "from pprint import pprint\n",
    "\n",
    "days = ['Monday', 'Tuesday', 'Wednesday', 'Thursday', 'Friday', 'Saturday']\n",
    "activity = ['Swimming', 'Basketball', 'Volleyball', 'Biking', 'Shooting']\n",
    "\n",
    "results = []\n",
    "max_length = len(days)\n",
    "if len(activity) < len(days):\n",
    "    max_length = len(activity)\n",
    "for i in range(max_length):\n",
    "    results.append((days[i], activity[i]))\n",
    "#print(results)\n",
    "\n",
    "results = list(zip(days, activity))\n",
    "print(results)\n",
    "\n",
    "daily_activity = dict(results)\n",
    "\n",
    "pprint(daily_activity)"
   ]
  },
  {
   "cell_type": "markdown",
   "metadata": {},
   "source": [
    "## Exercise 2\n",
    "\n",
    "_Playing with comprehension_  \n",
    "\n",
    "In this exercise we are going to be using comprehensions to become\n",
    "more familar with the power and syntax that it uses.  \n",
    "\n",
    "1. Create a new list of the values 0 to 20 using range\n",
    "2. Square all values in list using list comprehension\n",
    "3. Create a list of values that are just prime numbers from list"
   ]
  },
  {
   "cell_type": "code",
   "execution_count": 20,
   "metadata": {
    "collapsed": false
   },
   "outputs": [
    {
     "name": "stdout",
     "output_type": "stream",
     "text": [
      "[1, 4, 9, 16, 25, 36, 49, 64, 81, 100, 121, 144, 169, 196, 225, 256, 289, 324, 361, 400]\n",
      "[2, 3, 5, 7, 11, 13, 17, 19]\n",
      "[(1, 1), (2, 1), (2, 2), (3, 1), (3, 3), (4, 1), (4, 2), (4, 4), (5, 1), (5, 5), (6, 1), (6, 2), (6, 3), (6, 6), (7, 1), (7, 7), (8, 1), (8, 2), (8, 4), (8, 8), (9, 1), (9, 3), (9, 9), (10, 1), (10, 2), (10, 5), (10, 10), (11, 1), (11, 11), (12, 1), (12, 2), (12, 3), (12, 4), (12, 6), (12, 12), (13, 1), (13, 13), (14, 1), (14, 2), (14, 7), (14, 14), (15, 1), (15, 3), (15, 5), (15, 15), (16, 1), (16, 2), (16, 4), (16, 8), (16, 16), (17, 1), (17, 17), (18, 1), (18, 2), (18, 3), (18, 6), (18, 9), (18, 18), (19, 1), (19, 19), (20, 1), (20, 2), (20, 4), (20, 5), (20, 10), (20, 20)]\n"
     ]
    }
   ],
   "source": [
    "#list(range(20+1))\n",
    "#[x for x in range(20+1)]\n",
    "numbers = [x+1 for x in range(20)]\n",
    "squared = [x**2 for x in numbers]\n",
    "print(squared)\n",
    "\n",
    "def is_prime(n):\n",
    "    if n <= 1:\n",
    "        return False\n",
    "    for i in range(2, n):\n",
    "        if n % i == 0:\n",
    "            return False\n",
    "    return True\n",
    "\n",
    "primed = [x for x in numbers if is_prime(x)]\n",
    "print(primed)\n",
    "\n",
    "#print([(x,y) for x in numbers for y in numbers])\n",
    "print([(x,y) for x in numbers for y in numbers if x % y == 0])"
   ]
  },
  {
   "cell_type": "markdown",
   "metadata": {},
   "source": [
    "## Exercise 3\n",
    "\n",
    "_Function Examples_  \n",
    "\n",
    "* Create a function that returns the sum of 2 numbers squared\n",
    " * Call the function with positional params\n",
    " * Call the function with named params\n",
    "   \n",
    "<Answer\n",
    "def squared(a, b):\n",
    "    return a**2 + b**2\n",
    "\n",
    "print(squared(2, 3))\n",
    "print(squared(a=2, b=3))\n",
    ">"
   ]
  },
  {
   "cell_type": "code",
   "execution_count": 33,
   "metadata": {
    "collapsed": false
   },
   "outputs": [
    {
     "name": "stdout",
     "output_type": "stream",
     "text": [
      "20\n",
      "20\n",
      "20\n",
      "4\n",
      "[0, 1, 4, 9, 16, 1, 2, 5, 10, 17, 4, 5, 8, 13, 20, 9, 10, 13, 18, 25, 16, 17, 20, 25, 32]\n",
      "125\n"
     ]
    }
   ],
   "source": [
    "def sum_squared(a, b=0):\n",
    "    return a**2 + b**2\n",
    "\n",
    "print(sum_squared(2, 4))\n",
    "print(sum_squared(a=2, b=4))\n",
    "print(sum_squared(b=4, a=2))\n",
    "print(sum_squared(2))\n",
    "\n",
    "test_values = [(a,b) for a in range(5) for b in range(5)]\n",
    "print([sum_squared(t[0], t[1]) for t in test_values])\n",
    "#print([sum_squared(*t) for t in test_values])\n",
    "test_dict = { 'a': 5, 'b': 10}\n",
    "print(sum_squared(**test_dict))"
   ]
  },
  {
   "cell_type": "markdown",
   "metadata": {},
   "source": [
    "* Create a function that implements the below algorithm\n",
    " * f(n)=f(n-1)+2n when n>0\n",
    " * f(0)=1\n",
    "\n",
    "<Answer\n",
    "def f(n):\n",
    "    if n == 0:\n",
    "        return 1\n",
    "    return f(n-1) + 2*n\n",
    "\n",
    "print(f(4))\n",
    ">"
   ]
  },
  {
   "cell_type": "code",
   "execution_count": 34,
   "metadata": {
    "collapsed": false
   },
   "outputs": [
    {
     "name": "stdout",
     "output_type": "stream",
     "text": [
      "111\n"
     ]
    }
   ],
   "source": [
    "def f(n):\n",
    "    if n == 0:\n",
    "        return 1\n",
    "    return f(n-1) + 2*n\n",
    "print(f(10))"
   ]
  },
  {
   "cell_type": "markdown",
   "metadata": {},
   "source": [
    "* Create a function that will take a dynamic number of arguments\n",
    "  and multiplies them together, returning the result\n",
    "  \n",
    "<Answer\n",
    "def multiplier(*args):\n",
    "    sum = 1\n",
    "    for i in args:\n",
    "        sum *= i\n",
    "    return sum\n",
    "\n",
    "print(multiplier(2, 4, 6))\n",
    ">"
   ]
  },
  {
   "cell_type": "code",
   "execution_count": 38,
   "metadata": {
    "collapsed": false
   },
   "outputs": [
    {
     "name": "stdout",
     "output_type": "stream",
     "text": [
      "1\n",
      "48\n"
     ]
    }
   ],
   "source": [
    "def multiplier(*args):\n",
    "    sum = 1\n",
    "    for a in args:\n",
    "        sum *= a\n",
    "    return sum\n",
    "\n",
    "print(multiplier())    \n",
    "print(multiplier(2, 4, 6))"
   ]
  },
  {
   "cell_type": "markdown",
   "metadata": {},
   "source": [
    "## Exercise 4\n",
    "\n",
    "_Generator, Decorators and Functional Programming_   \n",
    "\n",
    "For this exercise we are going to be working some of the more advanced\n",
    "aspects of functions and get into (briefly) functional programming.   \n",
    "\n",
    "* Create a function that acts as a generator for fibonacci sequence\n",
    "  * 0, 1, 1, 2, 3, 5, 8, 13, 21...\n",
    " \n",
    "<Answer\n",
    "def fib_generator():\n",
    "    p = 0\n",
    "    l = 1\n",
    "    yield p\n",
    "    yield l\n",
    "    while True:\n",
    "        p, l = l, p + l\n",
    "        yield l      \n",
    ">"
   ]
  },
  {
   "cell_type": "code",
   "execution_count": 3,
   "metadata": {
    "collapsed": false
   },
   "outputs": [
    {
     "name": "stdout",
     "output_type": "stream",
     "text": [
      "[0, 1, 1, 2, 3, 5, 8, 13, 21, 34, 55, 89, 144, 233, 377, 610, 987, 1597, 2584, 4181]\n",
      "0, 1, 1, 2, 3, 5, 8, 13, 21, 34, 55, 89, 144, 233, 377, 610, 987, 1597, 2584, 4181, 6765, 10946, 17711, 28657, 46368, 75025, 121393, "
     ]
    }
   ],
   "source": [
    "def fib(n=None):\n",
    "    p = 0\n",
    "    l = 1\n",
    "    yield p\n",
    "    yield l\n",
    "    i = 2\n",
    "    while n is None or i < n:\n",
    "        i += 1\n",
    "    #for i in range(2, n):\n",
    "        #tmp = l\n",
    "        #l = p + l\n",
    "        #p = tmp\n",
    "        p, l = l, p + l\n",
    "        yield l\n",
    "        \n",
    "print(list(fib(20)))\n",
    "#for i in fib(20):\n",
    "#    print(i)\n",
    "\n",
    "for i in fib():\n",
    "    print(i, end=', ')\n",
    "    if i > 100000:\n",
    "        break"
   ]
  },
  {
   "cell_type": "markdown",
   "metadata": {},
   "source": [
    "* Create a decorator named (logit) that will log when a method is\n",
    "  called and when it is complete (with the result)\n",
    "  * Test it on a function that returns the sum of two numbers\n",
    "  \n",
    "<Answer\n",
    "def logit(func):\n",
    "    def func_wrapper(*args, **kargs):\n",
    "        print('Function called')\n",
    "        result = func(*args, **kargs)\n",
    "        print('Complete, result: {}'.format(result))\n",
    "        return result\n",
    "    return func_wrapper\n",
    "\n",
    "@logit\n",
    "def add(a, b):\n",
    "    return a + b\n",
    "\n",
    "print(add(1, 2))\n",
    ">"
   ]
  },
  {
   "cell_type": "code",
   "execution_count": 6,
   "metadata": {
    "collapsed": false
   },
   "outputs": [
    {
     "name": "stdout",
     "output_type": "stream",
     "text": [
      "Adding logit\n",
      "adding noop\n",
      "Function starting\n",
      "Function done\n",
      "3\n"
     ]
    }
   ],
   "source": [
    "import logging\n",
    "\n",
    "def logit(func):\n",
    "    print('Adding logit')\n",
    "    def new_func(*args, **kwargs):\n",
    "        print('Function starting')\n",
    "        result = func(*args, **kwargs)\n",
    "        print('Function done')\n",
    "        return result\n",
    "    return new_func\n",
    "\n",
    "def noop(func):\n",
    "    print('adding noop')\n",
    "    return func\n",
    "\n",
    "@noop\n",
    "@logit\n",
    "def sum(a, b):\n",
    "    return a + b\n",
    "\n",
    "print(sum(1, 2))"
   ]
  },
  {
   "cell_type": "markdown",
   "metadata": {},
   "source": [
    "* Create a function (filter) that takes a sequence and a func\n",
    "  and returns a sequence where the items are those that the func\n",
    "  returns True\n",
    "  * Filter a list of numbers for numbers divisible by 3\n",
    "  * Filter a string where string is not empty string\n",
    "  \n",
    "<Answer\n",
    "def filter(l, f):\n",
    "    return [i for i in l if f(i)]\n",
    "\n",
    "print(filter([1, 2, 3, 4, 5, 6, 7, 8, 9, 10], lambda x: x % 3 == 0))\n",
    "print(filter(['all', '', 'these', '', 'words'], len))\n",
    ">"
   ]
  },
  {
   "cell_type": "code",
   "execution_count": null,
   "metadata": {
    "collapsed": true
   },
   "outputs": [],
   "source": []
  },
  {
   "cell_type": "markdown",
   "metadata": {},
   "source": [
    "## Exercise 5\n",
    "\n",
    "_Scopes and Exceptions_   \n",
    "\n",
    "For this exercise section we are going to get more familiar with both\n",
    "scopes and exceptions.  \n",
    "\n",
    "* Get familiar with scope\n",
    "  * Create a variable `x = 1` and print out the globals()\n",
    "  * Create a function that prints out the value of the global variable `x`  \n",
    "  * In the same function, after printing, set `x` to 1\n",
    "  * Add the statement `global x` as the first line in the function\n",
    "   \n",
    "<Answer\n",
    "x = 1\n",
    "#globals()\n",
    "\n",
    "def test():\n",
    "    global x\n",
    "    print(x)\n",
    "    x = 2\n",
    "\n",
    "test()\n",
    "print(x)\n",
    ">"
   ]
  },
  {
   "cell_type": "code",
   "execution_count": null,
   "metadata": {
    "collapsed": false
   },
   "outputs": [],
   "source": []
  },
  {
   "cell_type": "markdown",
   "metadata": {},
   "source": [
    "* Read a number from the user and keep asking until they input a valid\n",
    "   number\n",
    "   \n",
    "<Answer\n",
    "result = None\n",
    "while not result:\n",
    "    try:\n",
    "        result = int(input('Give me a number: '))\n",
    "    #except:\n",
    "    except ValueError:\n",
    "        print('Invalid entry')\n",
    "        result = None\n",
    "print(2)\n",
    ">"
   ]
  },
  {
   "cell_type": "code",
   "execution_count": null,
   "metadata": {
    "collapsed": true
   },
   "outputs": [],
   "source": []
  }
 ],
 "metadata": {
  "kernelspec": {
   "display_name": "Python 3",
   "language": "python",
   "name": "python3"
  },
  "language_info": {
   "codemirror_mode": {
    "name": "ipython",
    "version": 3
   },
   "file_extension": ".py",
   "mimetype": "text/x-python",
   "name": "python",
   "nbconvert_exporter": "python",
   "pygments_lexer": "ipython3",
   "version": "3.5.2"
  }
 },
 "nbformat": 4,
 "nbformat_minor": 2
}
