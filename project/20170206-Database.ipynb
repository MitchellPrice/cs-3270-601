{
 "cells": [
  {
   "cell_type": "markdown",
   "metadata": {},
   "source": [
    "Database Project\n",
    "==============================\n",
    "\n",
    "This is our first example of an in class project.  In this project I will be going through the steps\n",
    "that are listed below to help us to create a new system that can act like a database.  This will work\n",
    "by using the following items. \n",
    "\n",
    "1. Functions\n",
    "  * especially lambdas\n",
    "2. Generators\n",
    "3. Decorators\n",
    "4. Set Operations"
   ]
  },
  {
   "cell_type": "markdown",
   "metadata": {},
   "source": [
    "### Permissions\n",
    "\n",
    "We will implement the idea of a permission for each of our database functions, we will do this by creating a \n",
    "decorator that will look at our global user and if the user has the required permission they can run it.  \n",
    "\n",
    "    @authorize('Admin')\n",
    "    def delete_query():\n",
    "        pass"
   ]
  },
  {
   "cell_type": "markdown",
   "metadata": {},
   "source": [
    "### Streams\n",
    "\n",
    "We will be able to create queries that can \"join\" by the fact that they will be each returning a generator\n",
    "(not a set list) that we can then use to create other generators.  \n",
    "\n",
    "    def select_query(where):\n",
    "        return (x for x in table if where(x))\n",
    "\n",
    "    def join(query1, field1, query2, field2):\n",
    "        return ((q1, q2) for q1 in query1 for q2 in query2 if q1[field1] == q2[field2])"
   ]
  },
  {
   "cell_type": "markdown",
   "metadata": {},
   "source": [
    "## Helper functions\n",
    "\n",
    "At this point I am going to create a few helper functions that will be used for this system. This\n",
    "will help in data generation and other operations.  "
   ]
  },
  {
   "cell_type": "code",
   "execution_count": 1,
   "metadata": {
    "collapsed": true
   },
   "outputs": [],
   "source": [
    "import random\n",
    "\n"
   ]
  },
  {
   "cell_type": "markdown",
   "metadata": {
    "collapsed": true
   },
   "source": [
    "## First Steps\n",
    "\n",
    "For the first step we are going to define our global values, this includes our tables and our user info.  \n",
    "\n",
    "We will also want to create some test data that we will put into our created tables.  "
   ]
  },
  {
   "cell_type": "code",
   "execution_count": 2,
   "metadata": {
    "collapsed": true
   },
   "outputs": [],
   "source": [
    "# Student Table (id*, name*)\n",
    "student_table = []\n",
    "# Class Table (id*, name*, time)\n",
    "class_table = []\n",
    "# Assignment Table (id*, name*, total_score*)\n",
    "assignment_table = []\n",
    "# Students Classes Table (student_id*, class_id*, grade)\n",
    "student_class_table = []\n",
    "# Student Assignment Table (student_id*, class_id*, assignment_id*, score)\n",
    "student_assignment_table = []"
   ]
  },
  {
   "cell_type": "code",
   "execution_count": 3,
   "metadata": {
    "collapsed": true
   },
   "outputs": [],
   "source": [
    "users_list = {\n",
    "    'teacher': {'Admin', 'User'},\n",
    "    'student': {'User'},\n",
    "}\n",
    "\n",
    "user = 'student'"
   ]
  },
  {
   "cell_type": "code",
   "execution_count": 4,
   "metadata": {
    "collapsed": false
   },
   "outputs": [],
   "source": [
    "# Student Table (id*, name*)\n",
    "student_table.extend([\n",
    "    (1, 'Alfred'), \n",
    "    (2, 'Barnes'),\n",
    "    (3, 'Catherine'),\n",
    "    (4, 'Doug'), \n",
    "    (5, 'Edward'),\n",
    "    (6, 'Fonz'),\n",
    "    (7, 'George'),\n",
    "    (8, 'Harriet'),\n",
    "    (9, 'Isaac'),\n",
    "    (10, 'Justin'),\n",
    "    (11, 'Kelly'),\n",
    "    (12, 'Lucy'),\n",
    "    (13, 'Mike'),\n",
    "    (14, 'Nate'),\n",
    "    (15, 'Oscar'),\n",
    "    (16, 'Peter'),\n",
    "    (17, 'Quincy'),\n",
    "    (18, 'Rose'),\n",
    "    (19, 'Sally'),\n",
    "    (20, 'Terry')\n",
    "])"
   ]
  },
  {
   "cell_type": "code",
   "execution_count": 5,
   "metadata": {
    "collapsed": false
   },
   "outputs": [],
   "source": [
    "# Class Table (id*, name*, time)\n",
    "class_table.extend([\n",
    "    (1, 'Algebra', '6:00'),\n",
    "    (2, 'Biology', '3:00'),\n",
    "    (3, 'Chemistry', '4:00'),\n",
    "    (4, 'Dance', '5:00'),\n",
    "    (5, 'English', '8:00'),\n",
    "    (6, 'Finance', '1:00'),\n",
    "])"
   ]
  },
  {
   "cell_type": "code",
   "execution_count": 6,
   "metadata": {
    "collapsed": true
   },
   "outputs": [],
   "source": [
    "# Assignment Table (id*, name*, total_score*)\n",
    "assignment_table.extend([\n",
    "    (1, 'Intro', 10),\n",
    "    (2, 'Essay', 25),\n",
    "    (3, 'Midterm', 50),\n",
    "    (4, 'Project', 100),\n",
    "    (5, 'Final', 50),\n",
    "])"
   ]
  },
  {
   "cell_type": "code",
   "execution_count": 7,
   "metadata": {
    "collapsed": true
   },
   "outputs": [],
   "source": [
    "# Students Classes Table (student_id*, class_id*, grade)\n",
    "student_class_table.extend(\n",
    "  [(s[0], c[0], None) for s in student_table\n",
    "                      for c in class_table\n",
    "                      if random.randint(1, 2) == 1]\n",
    ")"
   ]
  },
  {
   "cell_type": "code",
   "execution_count": 8,
   "metadata": {
    "collapsed": false
   },
   "outputs": [],
   "source": [
    "# print(student_class_table)\n",
    "# Student Assignment Table (student_id*, class_id*, assignment_id*, score)\n",
    "student_assignment_table.extend(\n",
    "  [(sc[0], sc[1], a[0], random.randint(0, a[2])) \n",
    "     for sc in student_class_table\n",
    "     for a in assignment_table]\n",
    ")\n",
    "\n",
    "#student_assignment_table.extend(\n",
    "#  [(s[0], c[1], a[0], random.randint(0, a[2])) \n",
    "#     for s in student_table\n",
    "#     for c in class_table\n",
    "#     for a in assignment_table\n",
    "#     for sc in student_class_table\n",
    "#     if s[0] == sc[0] and c[0] == sc[1]]\n",
    "#)"
   ]
  },
  {
   "cell_type": "code",
   "execution_count": 9,
   "metadata": {
    "collapsed": false
   },
   "outputs": [],
   "source": [
    "#print(student_assignment_table)"
   ]
  },
  {
   "cell_type": "markdown",
   "metadata": {},
   "source": [
    "## Second step\n",
    "\n",
    "At this point we are going to create a few helper functions that we can use to query data"
   ]
  },
  {
   "cell_type": "code",
   "execution_count": 10,
   "metadata": {
    "collapsed": false
   },
   "outputs": [],
   "source": [
    "def students(scope):\n",
    "    if scope in users_list[user]:\n",
    "        for a in student_table:\n",
    "            yield a\n",
    "    else:\n",
    "        raise ValueError('Not authorized')"
   ]
  },
  {
   "cell_type": "code",
   "execution_count": 11,
   "metadata": {
    "collapsed": false
   },
   "outputs": [
    {
     "name": "stdout",
     "output_type": "stream",
     "text": [
      "[(1, 'Alfred'), (2, 'Barnes'), (3, 'Catherine'), (4, 'Doug'), (5, 'Edward'), (6, 'Fonz'), (7, 'George'), (8, 'Harriet'), (9, 'Isaac'), (10, 'Justin'), (11, 'Kelly'), (12, 'Lucy'), (13, 'Mike'), (14, 'Nate'), (15, 'Oscar'), (16, 'Peter'), (17, 'Quincy'), (18, 'Rose'), (19, 'Sally'), (20, 'Terry')]\n"
     ]
    }
   ],
   "source": [
    "user = 'student'\n",
    "print([a for a in students('User')])"
   ]
  },
  {
   "cell_type": "code",
   "execution_count": 12,
   "metadata": {
    "collapsed": true
   },
   "outputs": [],
   "source": [
    "def authorize(scope):\n",
    "    def wrap(func):\n",
    "        def inner(*args, **kwargs):\n",
    "            if scope in users_list[user]:\n",
    "                return func(*args, **kwargs)\n",
    "            else:\n",
    "                raise ValueError('Not authorized')\n",
    "        return inner\n",
    "    return wrap"
   ]
  },
  {
   "cell_type": "code",
   "execution_count": 13,
   "metadata": {
    "collapsed": true
   },
   "outputs": [],
   "source": [
    "@authorize('User')\n",
    "def student():\n",
    "    for a in student_table:\n",
    "        yield a"
   ]
  },
  {
   "cell_type": "code",
   "execution_count": 14,
   "metadata": {
    "collapsed": false
   },
   "outputs": [
    {
     "name": "stdout",
     "output_type": "stream",
     "text": [
      "[(1, 'Alfred'), (2, 'Barnes'), (3, 'Catherine'), (4, 'Doug'), (5, 'Edward'), (6, 'Fonz'), (7, 'George'), (8, 'Harriet'), (9, 'Isaac'), (10, 'Justin'), (11, 'Kelly'), (12, 'Lucy'), (13, 'Mike'), (14, 'Nate'), (15, 'Oscar'), (16, 'Peter'), (17, 'Quincy'), (18, 'Rose'), (19, 'Sally'), (20, 'Terry')]\n"
     ]
    }
   ],
   "source": [
    "user = 'teacher'\n",
    "print([a for a in student()])"
   ]
  },
  {
   "cell_type": "code",
   "execution_count": 15,
   "metadata": {
    "collapsed": false
   },
   "outputs": [
    {
     "name": "stdout",
     "output_type": "stream",
     "text": [
      "9\n",
      "9\n",
      "9\n"
     ]
    }
   ],
   "source": [
    "def bad_guy(a, b):\n",
    "    def wrapper(func):\n",
    "        def inner(*args, **kwargs):\n",
    "            return func(a, b)\n",
    "        return inner\n",
    "    return wrapper\n",
    "\n",
    "@bad_guy(4, 5)\n",
    "def my_sum(a, b):\n",
    "    return a + b\n",
    "\n",
    "print(my_sum(1, 2))\n",
    "print(my_sum(3, 4))\n",
    "print(my_sum(0, 0))"
   ]
  },
  {
   "cell_type": "code",
   "execution_count": 16,
   "metadata": {
    "collapsed": true
   },
   "outputs": [],
   "source": [
    "@authorize('User')\n",
    "def classes():\n",
    "    for c in class_table:\n",
    "        yield c\n",
    "        \n",
    "@authorize('User')\n",
    "def assignment():\n",
    "    for a in assignment_table:\n",
    "        yield a\n",
    "        \n",
    "@authorize('Admin')\n",
    "def student_class():\n",
    "    for sc in student_class_table:\n",
    "        yield sc\n",
    "        \n",
    "@authorize('Admin')\n",
    "def student_assignment():\n",
    "    for sca in student_assignment_table:\n",
    "        yield sca"
   ]
  },
  {
   "cell_type": "code",
   "execution_count": 17,
   "metadata": {
    "collapsed": false
   },
   "outputs": [
    {
     "name": "stdout",
     "output_type": "stream",
     "text": [
      "[(1, 1, None), (1, 2, None), (1, 4, None), (1, 5, None), (1, 6, None), (3, 1, None), (3, 2, None), (3, 3, None), (3, 4, None), (3, 5, None), (3, 6, None), (4, 3, None), (5, 1, None), (5, 3, None), (5, 5, None), (5, 6, None), (6, 3, None), (6, 4, None), (6, 5, None), (7, 1, None), (8, 3, None), (8, 4, None), (8, 5, None), (8, 6, None), (9, 2, None), (9, 3, None), (9, 4, None), (9, 5, None), (10, 1, None), (10, 2, None), (10, 3, None), (10, 4, None), (10, 5, None), (11, 1, None), (11, 4, None), (12, 3, None), (12, 6, None), (13, 3, None), (13, 6, None), (14, 1, None), (14, 2, None), (14, 3, None), (14, 4, None), (14, 5, None), (14, 6, None), (15, 1, None), (15, 2, None), (16, 1, None), (16, 2, None), (16, 4, None), (16, 6, None), (17, 2, None), (17, 4, None), (17, 5, None), (18, 1, None), (18, 3, None), (18, 5, None), (18, 6, None), (19, 1, None), (19, 2, None), (19, 4, None), (19, 6, None), (20, 3, None), (20, 4, None), (20, 5, None), (20, 6, None)]\n"
     ]
    }
   ],
   "source": [
    "user = 'teacher'\n",
    "print([a for a in student_class()])"
   ]
  },
  {
   "cell_type": "markdown",
   "metadata": {},
   "source": [
    "## Queries\n",
    "\n",
    "* Student names who are in Dance or Finance.  \n",
    "* Students in Dance and Chemistry.\n",
    "* Sum of scores above 50% for Essay assignment in class Chemistry\n",
    "* Get a tuple of all the students that are in the different classes\n"
   ]
  },
  {
   "cell_type": "code",
   "execution_count": 18,
   "metadata": {
    "collapsed": false
   },
   "outputs": [
    {
     "name": "stdout",
     "output_type": "stream",
     "text": [
      "{'Fonz', 'Mike', 'Harriet', 'Rose', 'Alfred', 'Terry', 'Justin', 'Edward', 'Quincy', 'Lucy', 'Isaac', 'Nate', 'Kelly', 'Peter', 'Sally', 'Catherine'}\n"
     ]
    }
   ],
   "source": [
    "results = {s[1] for s in student()\n",
    "                for c in classes()\n",
    "                for sc in student_class()\n",
    "                if c[1] == 'Dance' or c[1] == 'Finance'\n",
    "                if s[0] == sc[0]\n",
    "                if c[0] == sc[1]\n",
    "          }\n",
    "print(results)"
   ]
  },
  {
   "cell_type": "code",
   "execution_count": 19,
   "metadata": {
    "collapsed": false
   },
   "outputs": [
    {
     "name": "stdout",
     "output_type": "stream",
     "text": [
      "{'Fonz', 'Harriet', 'Terry', 'Justin', 'Nate', 'Isaac', 'Catherine'}\n"
     ]
    }
   ],
   "source": [
    "def student_in_class(class_name):\n",
    "    return {s[1] for s in student()\n",
    "                 for c in classes()\n",
    "                 for sc in student_class()\n",
    "                 if c[1] == class_name\n",
    "                 if s[0] == sc[0]\n",
    "                 if c[0] == sc[1]\n",
    "            }\n",
    "\n",
    "dance_result = student_in_class('Dance')\n",
    "chemistry_result = student_in_class('Chemistry')\n",
    "#result = { s for s in dance_result for c in chemistry_result if c == s}\n",
    "result = dance_result & chemistry_result\n",
    "print(result)"
   ]
  },
  {
   "cell_type": "code",
   "execution_count": 21,
   "metadata": {
    "collapsed": false
   },
   "outputs": [
    {
     "name": "stdout",
     "output_type": "stream",
     "text": [
      "[17, 13, 13, 15, 14, 23]\n",
      "95\n"
     ]
    }
   ],
   "source": [
    "results = [sa[3] for sa in student_assignment()\n",
    "              for c in classes()\n",
    "              for a in assignment()\n",
    "              if c[1] == 'Chemistry'\n",
    "              if sa[1] == c[0]\n",
    "              if a[1] == 'Essay'\n",
    "              if sa[2] == a[0]\n",
    "              if sa[3] >= a[2] / 2]\n",
    "\n",
    "print(results)\n",
    "print(sum(results))"
   ]
  },
  {
   "cell_type": "code",
   "execution_count": 23,
   "metadata": {
    "collapsed": false
   },
   "outputs": [
    {
     "name": "stdout",
     "output_type": "stream",
     "text": [
      "[('Oscar', 'Rose', 'Alfred', 'George', 'Justin', 'Edward', 'Nate', 'Kelly', 'Peter', 'Sally', 'Catherine'), ('Oscar', 'Alfred', 'Justin', 'Quincy', 'Isaac', 'Nate', 'Peter', 'Sally', 'Catherine'), ('Fonz', 'Mike', 'Harriet', 'Rose', 'Terry', 'Justin', 'Edward', 'Doug', 'Lucy', 'Isaac', 'Nate', 'Catherine'), ('Fonz', 'Harriet', 'Terry', 'Alfred', 'Justin', 'Quincy', 'Isaac', 'Nate', 'Kelly', 'Peter', 'Sally', 'Catherine'), ('Fonz', 'Harriet', 'Rose', 'Alfred', 'Terry', 'Justin', 'Edward', 'Quincy', 'Isaac', 'Nate', 'Catherine'), ('Mike', 'Harriet', 'Rose', 'Alfred', 'Terry', 'Edward', 'Lucy', 'Nate', 'Peter', 'Sally', 'Catherine')]\n"
     ]
    }
   ],
   "source": [
    "class_list = [c for c in classes()]\n",
    "results = []\n",
    "for c in class_list:\n",
    "    results.append(tuple({ s[1] for s in student()\n",
    "                                for sc in student_class()\n",
    "                                if sc[1] == c[0]\n",
    "                                if sc[0] == s[0]}))\n",
    "print(results)"
   ]
  },
  {
   "cell_type": "code",
   "execution_count": null,
   "metadata": {
    "collapsed": true
   },
   "outputs": [],
   "source": []
  }
 ],
 "metadata": {
  "anaconda-cloud": {},
  "kernelspec": {
   "display_name": "Python 3",
   "language": "python",
   "name": "python3"
  },
  "language_info": {
   "codemirror_mode": {
    "name": "ipython",
    "version": 3
   },
   "file_extension": ".py",
   "mimetype": "text/x-python",
   "name": "python",
   "nbconvert_exporter": "python",
   "pygments_lexer": "ipython3",
   "version": "3.5.2"
  }
 },
 "nbformat": 4,
 "nbformat_minor": 2
}
