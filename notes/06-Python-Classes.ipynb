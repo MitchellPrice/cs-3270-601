{
 "cells": [
  {
   "cell_type": "markdown",
   "metadata": {
    "collapsed": true
   },
   "source": [
    "## Python Classes\n",
    "\n",
    "Here we will play with python classes, as well as better understanding duck typing.  We will also be looking over\n",
    "named tuples.  "
   ]
  },
  {
   "cell_type": "markdown",
   "metadata": {},
   "source": [
    "## Exercise 1\n",
    "\n",
    "Lets create a basic person class and an inherited student class"
   ]
  },
  {
   "cell_type": "code",
   "execution_count": 13,
   "metadata": {
    "collapsed": true
   },
   "outputs": [],
   "source": [
    "class Person:\n",
    "    def __init__(self, name):\n",
    "        self.name = name\n",
    "        \n",
    "    def get_name(self):\n",
    "        return self.name\n",
    "\n",
    "class Student(Person):\n",
    "    def __init__(self, name):\n",
    "        super().__init__(name)\n",
    "        \n",
    "    def get_name(self):\n",
    "        return 'No name: ' + super().get_name()\n",
    "        \n",
    "    def get_grade(self):\n",
    "        return 'A'"
   ]
  },
  {
   "cell_type": "code",
   "execution_count": 14,
   "metadata": {
    "collapsed": false
   },
   "outputs": [
    {
     "name": "stdout",
     "output_type": "stream",
     "text": [
      "Mike\n",
      "No name: George\n",
      "A\n"
     ]
    }
   ],
   "source": [
    "x = Person('Mike')\n",
    "y = Student('George')\n",
    "\n",
    "print(x.get_name())\n",
    "print(y.get_name())\n",
    "\n",
    "print(y.get_grade())\n",
    "#print(x.get_grade())\n",
    "\n",
    "#help(y)"
   ]
  },
  {
   "cell_type": "markdown",
   "metadata": {},
   "source": [
    "## Exercise 2\n",
    "\n",
    "Lets look at creating a property for a person and hiding our \"sensitive\" data.  "
   ]
  },
  {
   "cell_type": "code",
   "execution_count": 47,
   "metadata": {
    "collapsed": false
   },
   "outputs": [],
   "source": [
    "class MyClass:\n",
    "    def __init__(self, age, grade='A'):\n",
    "        self.__age = age\n",
    "        self.__grade = grade\n",
    "        \n",
    "    def get_age(self):\n",
    "        print('Calling get_age')\n",
    "        return self.__age\n",
    "    \n",
    "    age = property(get_age)\n",
    "    \n",
    "    @property\n",
    "    def grade(self):\n",
    "        print('Grade getter')\n",
    "        return self.__grade\n",
    "    \n",
    "    @grade.setter\n",
    "    def grade(self, grade):\n",
    "        print('Grade setter')\n",
    "        self.__grade = grade\n",
    "        \n",
    "    #grade = property(get_grade, set_grade)"
   ]
  },
  {
   "cell_type": "code",
   "execution_count": 48,
   "metadata": {
    "collapsed": false
   },
   "outputs": [
    {
     "name": "stdout",
     "output_type": "stream",
     "text": [
      "Calling get_age\n",
      "10\n",
      "Calling get_age\n",
      "10\n",
      "Calling get_age\n",
      "10\n",
      "Grade getter\n",
      "A\n",
      "Grade setter\n"
     ]
    },
    {
     "data": {
      "text/plain": [
       "['_MyClass__age',\n",
       " '_MyClass__grade',\n",
       " '__class__',\n",
       " '__delattr__',\n",
       " '__dict__',\n",
       " '__dir__',\n",
       " '__doc__',\n",
       " '__eq__',\n",
       " '__format__',\n",
       " '__ge__',\n",
       " '__getattribute__',\n",
       " '__gt__',\n",
       " '__hash__',\n",
       " '__init__',\n",
       " '__le__',\n",
       " '__lt__',\n",
       " '__module__',\n",
       " '__ne__',\n",
       " '__new__',\n",
       " '__reduce__',\n",
       " '__reduce_ex__',\n",
       " '__repr__',\n",
       " '__setattr__',\n",
       " '__sizeof__',\n",
       " '__str__',\n",
       " '__subclasshook__',\n",
       " '__weakref__',\n",
       " 'age',\n",
       " 'get_age',\n",
       " 'grade']"
      ]
     },
     "execution_count": 48,
     "metadata": {},
     "output_type": "execute_result"
    }
   ],
   "source": [
    "x = MyClass(10)\n",
    "print(x.get_age())\n",
    "#print(x.age)\n",
    "#x.age = 20\n",
    "#x._MyClass__age = 20\n",
    "print(x.get_age())\n",
    "print(x.age)\n",
    "#x.age = 20\n",
    "\n",
    "print(x.grade)\n",
    "x.grade = 'B'\n",
    "dir(x)\n",
    "#help(x)\n",
    "#dir(x)\n"
   ]
  },
  {
   "cell_type": "code",
   "execution_count": 56,
   "metadata": {
    "collapsed": true
   },
   "outputs": [],
   "source": [
    "class TestStatic:\n",
    "    count = 100\n",
    "    \n",
    "    def __init__(self):\n",
    "        self.id = 10\n",
    "        \n",
    "    def get_id(self):\n",
    "        return self.id\n",
    "        \n",
    "    @classmethod\n",
    "    def class_method(cls):\n",
    "        print(cls.count)\n",
    "        \n",
    "    @staticmethod\n",
    "    def sum(a, b):\n",
    "        return a + b"
   ]
  },
  {
   "cell_type": "code",
   "execution_count": 61,
   "metadata": {
    "collapsed": false
   },
   "outputs": [
    {
     "name": "stdout",
     "output_type": "stream",
     "text": [
      "10\n",
      "100\n",
      "100\n",
      "3\n",
      "3\n"
     ]
    }
   ],
   "source": [
    "x = TestStatic()\n",
    "#help(x)\n",
    "print(x.get_id())\n",
    "x.class_method()\n",
    "TestStatic.class_method()\n",
    "print(x.sum(1, 2))\n",
    "print(TestStatic.sum(1, 2))\n"
   ]
  },
  {
   "cell_type": "code",
   "execution_count": 73,
   "metadata": {
    "collapsed": true
   },
   "outputs": [],
   "source": [
    "class Operators:\n",
    "    def __init__(self, ids):\n",
    "        self.id = ids\n",
    "        self.times = 0\n",
    "    \n",
    "    def __eq__(self, other):\n",
    "        return self.id == other.id\n",
    "    \n",
    "    def __str__(self):\n",
    "        return 'id: {}'.format(self.id)"
   ]
  },
  {
   "cell_type": "code",
   "execution_count": 74,
   "metadata": {
    "collapsed": false
   },
   "outputs": [
    {
     "name": "stdout",
     "output_type": "stream",
     "text": [
      "id: 10\n",
      "id: 20\n",
      "True\n"
     ]
    }
   ],
   "source": [
    "x = Operators(10)\n",
    "y = Operators(20)\n",
    "print(x)\n",
    "print(y)\n",
    "y.id = 10\n",
    "print(x == y)"
   ]
  },
  {
   "cell_type": "markdown",
   "metadata": {},
   "source": [
    "## Exercise 3\n",
    "\n",
    "Lets play around with named tuples and compare them to existing tuples.   "
   ]
  },
  {
   "cell_type": "code",
   "execution_count": 81,
   "metadata": {
    "collapsed": false
   },
   "outputs": [
    {
     "name": "stdout",
     "output_type": "stream",
     "text": [
      "Student(name='Mike', grade='A')\n",
      "('Greg', 'F')\n",
      "Mike\n",
      "Greg\n",
      "Name: Greg - Grade: F\n",
      "Name: Mike - Grade: A\n"
     ]
    }
   ],
   "source": [
    "from collections import namedtuple\n",
    "\n",
    "Student = namedtuple('Student', 'name grade')\n",
    "x = Student('Mike', 'A')\n",
    "print(x)\n",
    "y = ('Greg', 'F')\n",
    "print(y)\n",
    "\n",
    "print(x.name)\n",
    "print(y[0])\n",
    "\n",
    "#y[0] = 'Albert'\n",
    "#x.name = 'Albert'\n",
    "\n",
    "def display_student(name, grade):\n",
    "    print('Name: {} - Grade: {}'.format(name, grade))\n",
    "    \n",
    "display_student(*y)\n",
    "display_student(*x)"
   ]
  },
  {
   "cell_type": "code",
   "execution_count": null,
   "metadata": {
    "collapsed": true
   },
   "outputs": [],
   "source": []
  },
  {
   "cell_type": "code",
   "execution_count": null,
   "metadata": {
    "collapsed": true
   },
   "outputs": [],
   "source": []
  }
 ],
 "metadata": {
  "kernelspec": {
   "display_name": "Python 3",
   "language": "python",
   "name": "python3"
  },
  "language_info": {
   "codemirror_mode": {
    "name": "ipython",
    "version": 3
   },
   "file_extension": ".py",
   "mimetype": "text/x-python",
   "name": "python",
   "nbconvert_exporter": "python",
   "pygments_lexer": "ipython3",
   "version": "3.5.2"
  }
 },
 "nbformat": 4,
 "nbformat_minor": 2
}
