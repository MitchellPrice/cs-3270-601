{
 "cells": [
  {
   "cell_type": "markdown",
   "metadata": {},
   "source": [
    "Quiz 1 - Python Intro\n",
    "=======================\n",
    "\n",
    "This is the first quiz in the class, be sure to answer the questions to the best of your\n",
    "ability, and do not worry about being wrong, quizzes are extra credit only, so failing a\n",
    "quiz will not result in any negative effects on your existing grade.   \n",
    "\n",
    "## Summary\n",
    "\n",
    "For this question please answer on a piece of paper and be sure to add the following to the \n",
    "**top left** of the paper.  \n",
    "\n",
    "        <Name>\n",
    "        <UVU Id>\n",
    "        \n",
    "This quiz will consist of 4 questions and you will have 10 minutes to answer them after which\n",
    "we will have other students grade the papers.  For you to receive create the grader must put\n",
    "the following information on the **top right** of the paper.  \n",
    "\n",
    "        Grader: \n",
    "        <Name>\n",
    "        <UVU Id>\n",
    "        \n",
    "The quiz will have 4 questions, in them, each question will be worth the points placed along\n",
    "side them in the description below.  They will be all or nothing for the most part, a couple\n",
    "of them may get partial points, but that will be shown during grading.  \n",
    "\n",
    "For this quiz the total number of points possible is: **12**   \n",
    "\n",
    "<You should not see this.> "
   ]
  },
  {
   "cell_type": "markdown",
   "metadata": {},
   "source": [
    "## Question 1\n",
    "\n",
    "**2 Points** <No partial>\n",
    "\n",
    "*Is the following statement true?*  \n",
    "\n",
    "        Python has two numeric types, integer and floats.  Float will hold the decimal values and are\n",
    "        unlimited while integers hold whole numbers and are limited to 64-bit numbers.   \n",
    "\n",
    "<Answer: False>"
   ]
  },
  {
   "cell_type": "markdown",
   "metadata": {},
   "source": [
    "## Question 2\n",
    "\n",
    "**2 Points** <No Partial>\n",
    "\n",
    "_Is the following statement true?_  \n",
    "\n",
    "        Python has a seperate operator for whole division vs floating division.   \n",
    "        \n",
    "<Answer: True>"
   ]
  },
  {
   "cell_type": "markdown",
   "metadata": {},
   "source": [
    "## Question 3\n",
    "\n",
    "**4 Points** <Partial: 1 - For all one line, 2 - words swapped out, 1 - Casing changed>\n",
    "\n",
    "*What is the output of the below python code*  \n",
    "\n",
    "<Answer: Yesterday I Decided To Start Working On A Few Different Projects.  There Are Other Workers At The Company Who Try To Act Like My Manager Which Makes Me Unhappy.>"
   ]
  },
  {
   "cell_type": "code",
   "execution_count": 1,
   "metadata": {
    "collapsed": false
   },
   "outputs": [
    {
     "name": "stdout",
     "output_type": "stream",
     "text": [
      "Yesterday I Decided To Start Working On A Few Different Projects.  There Are Other Workers At The Company Who Try To Act Like My Manager Which Makes Me Unhappy.\n"
     ]
    }
   ],
   "source": [
    "msg = '''Yesterday I decided to start working\n",
    "on a few different projects.  There are other\n",
    "workers at the company who try to act like my\n",
    "BOSS which makes me hulk out.'''\n",
    "\n",
    "print(' '.join(msg.replace('BOSS', 'manager').replace('hulk out', 'unhappy').title().split('\\n')))"
   ]
  },
  {
   "cell_type": "markdown",
   "metadata": {},
   "source": [
    "## Question 4\n",
    "\n",
    "**4 Points** <No Partial>\n",
    "\n",
    "*Write some python that will read in a name from the user and output the entered name prepended by* `Hello`   \n",
    "\n",
    "<Answer: name = input('What is your name? ')\n",
    "print('Hello ' + name)>"
   ]
  },
  {
   "cell_type": "code",
   "execution_count": 5,
   "metadata": {
    "collapsed": false
   },
   "outputs": [
    {
     "name": "stdout",
     "output_type": "stream",
     "text": [
      "What is your name? Mike\n",
      "Hello Mike\n",
      "Hello Mike\n",
      "Hello Mike\n",
      "Hello Mike\n"
     ]
    }
   ],
   "source": [
    "name = input('What is your name? ')\n",
    "print('Hello ' + name)\n",
    "print('Hello', name)\n",
    "print('Hello %s' % (name))\n",
    "print('Hello {}'.format(name))"
   ]
  },
  {
   "cell_type": "code",
   "execution_count": null,
   "metadata": {
    "collapsed": true
   },
   "outputs": [],
   "source": []
  }
 ],
 "metadata": {
  "kernelspec": {
   "display_name": "Python 3",
   "language": "python",
   "name": "python3"
  },
  "language_info": {
   "codemirror_mode": {
    "name": "ipython",
    "version": 3
   },
   "file_extension": ".py",
   "mimetype": "text/x-python",
   "name": "python",
   "nbconvert_exporter": "python",
   "pygments_lexer": "ipython3",
   "version": "3.5.2"
  }
 },
 "nbformat": 4,
 "nbformat_minor": 2
}
