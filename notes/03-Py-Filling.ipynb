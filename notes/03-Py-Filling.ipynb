{
 "cells": [
  {
   "cell_type": "markdown",
   "metadata": {},
   "source": [
    "Chapter 3 - Py Filling\n",
    "==============================\n",
    "\n",
    "In this chapter we are covering the collections that python has built-in.  These are very\n",
    "powerful collections and you will find that when working in python you will be using these\n",
    "sequences all over the place.  \n",
    "\n",
    "For this chapter we specifically cover the below items:  \n",
    "\n",
    "* lists\n",
    "* tuples\n",
    "* dictionaries\n",
    "* sets"
   ]
  },
  {
   "cell_type": "markdown",
   "metadata": {},
   "source": [
    "## Lists\n",
    "\n",
    "Lists are the core of the sequences that we will be using in python, as such it adventageous for you\n",
    "to get as familiar with lists as you can.  "
   ]
  },
  {
   "cell_type": "markdown",
   "metadata": {},
   "source": [
    "### Exercise 1\n",
    "\n",
    "_Playing with list creation!_   \n",
    "\n",
    "Below do the following:      \n",
    "\n",
    "1. Create a new empty list using the bracket operator\n",
    "2. Create a new empty list using the list function\n",
    "3. Create a list of elements 1, 2 and 3 using bracket operator\n",
    "4. Create a list of elements 1, 2 and 3 using list function (does it work?)\n",
    "5. Create a list from the string 'hello'\n",
    "6. Create a list of words from the sentence 'This is a sentence.'"
   ]
  },
  {
   "cell_type": "code",
   "execution_count": 4,
   "metadata": {
    "collapsed": false
   },
   "outputs": [
    {
     "name": "stdout",
     "output_type": "stream",
     "text": [
      "['h', 'e', 'l', 'l', 'o']\n",
      "['This', 'is', 'a', 'sentence']\n"
     ]
    }
   ],
   "source": [
    "x = []\n",
    "y = list()\n",
    "x = [1, 2, 3]\n",
    "# y = list(1, 2, 3) - This does not work\n",
    "characters = list('hello')\n",
    "print(characters)\n",
    "print('This is a sentence'.split())"
   ]
  },
  {
   "cell_type": "markdown",
   "metadata": {},
   "source": [
    "### Exercise 2\n",
    "\n",
    "_List element manipulation._   \n",
    "\n",
    "Below do the following:  \n",
    "\n",
    "1. Create a new list with all numbers 0 - 6\n",
    "2. Change value at offset 0 into 1\n",
    "3. Change offset 4-6 to 5, 8 and 13\n",
    "4. Attempt to do the above in one line of code.  \n",
    "5. Create a copy of the list that is reversed\n",
    "6. Print out both lists\n",
    "\n",
    "<Answer:\n",
    "x = list(range(0, 6))\n",
    "x[0] = 1\n",
    "x[4:6] = [5, 8, 13]\n",
    "z = x[::-1]\n",
    "print(x)\n",
    "print(z)\n",
    ">"
   ]
  },
  {
   "cell_type": "code",
   "execution_count": 14,
   "metadata": {
    "collapsed": false
   },
   "outputs": [
    {
     "name": "stdout",
     "output_type": "stream",
     "text": [
      "[1, 1, 2, 3, 5, 8, 13]\n",
      "[13, 8, 5, 3, 2, 1, 1]\n"
     ]
    }
   ],
   "source": [
    "# x = [0, 1, 2, 3, 4, 5, 6]\n",
    "x = list(range(0, 7))\n",
    "x[0] = 1\n",
    "#x[4] = 5\n",
    "#x[5] = 8\n",
    "#x[6] = 13\n",
    "x[4:7] = [5, 8, 13]\n",
    "y = x[::-1]\n",
    "#y = x.copy()\n",
    "#y.reverse()\n",
    "print(x)\n",
    "print(y)"
   ]
  },
  {
   "cell_type": "markdown",
   "metadata": {
    "collapsed": false
   },
   "source": [
    "### Exercise 3\n",
    "\n",
    "_List content manipulation_  \n",
    "\n",
    "Below do the following:\n",
    "\n",
    "1. Create a new list with 3 names 'Rand', 'Perrin' and 'Matt'\n",
    "2. Create a new list with the names 'Moiraine' and 'Lan'\n",
    "3. Combine the two lists into one list\n",
    "4. Add the name 'Egwene' to the list\n",
    "5. Add the name 'Nynaeve' to the list before 'Lan'\n",
    "6. Output the combined list\n",
    "7. Remove the name 'Moiraine' from the list\n",
    "8. Output the final list\n",
    "\n",
    "<Answer: \n",
    "t = ['Rand', 'Perrin', 'Matt']\n",
    "a = ['Moiraine', 'Lan']\n",
    "group = t + a\n",
    "group.append('Egwene')\n",
    "group.insert(4, 'Nynaeve')\n",
    "print(group)\n",
    "group.remove('Moiraine')  # or del group[3]\n",
    "print(group) >"
   ]
  },
  {
   "cell_type": "code",
   "execution_count": 27,
   "metadata": {
    "collapsed": false
   },
   "outputs": [
    {
     "name": "stdout",
     "output_type": "stream",
     "text": [
      "['Rand', 'Perrin', 'Matt']\n",
      "['Moiraine', 'Lan']\n",
      "['Rand', 'Perrin', 'Matt', 'Nynaeve', 'Lan', 'Egwene']\n"
     ]
    }
   ],
   "source": [
    "t = ['Rand', 'Perrin', 'Matt']\n",
    "a = ['Moiraine', 'Lan']\n",
    "print(t)\n",
    "print(a)\n",
    "\n",
    "e = t + a\n",
    "# t.extend(a)\n",
    "# t += a\n",
    "e.append('Egwene')\n",
    "#e.insert(4, 'Nynaeve')\n",
    "e.insert(e.index('Lan'), 'Nynaeve')\n",
    "#del e[3]\n",
    "e.remove('Moiraine')\n",
    "print(e)"
   ]
  },
  {
   "cell_type": "markdown",
   "metadata": {},
   "source": [
    "### Exercise 4\n",
    "\n",
    "_Advanced List usages_   \n",
    "\n",
    "Below we are going to try to create a simple priority queue (3 priorities): \n",
    "\n",
    "1. Create a list that has 3 empty lists\n",
    "2. Add the the first list the values 'work', 'games'\n",
    "3. Add to the second list the values 'eat', 'sleep'\n",
    "4. Add to the third list the values 'homework', 'comics'\n",
    "5. Create a loop that goes until all items have been retrieved that does the following\n",
    "  1. Asks the user for a new item and priority (single input)\n",
    "  2. If not empty add to appropriate queue\n",
    "  3. Retrieve the next item off the highest most priority\n",
    "  4. Print out the item and queue it was on\n",
    "  5. If no items in any queue, print it is empty and exit the loop\n",
    "  \n",
    "<Answer:\n",
    "queue = [[], [], []]\n",
    "queue[0].extend(['work', 'games'])\n",
    "queue[1].extend(['eat', 'sleep'])\n",
    "queue[2].extend(['homework', 'comics'])\n",
    "\n",
    "while True:\n",
    "    new_item = input('Enter new priority and item: (None to skip) ')\n",
    "    if new_item != '':\n",
    "        priority, item = new_item.split(' ')\n",
    "        priority = int(priority)\n",
    "        queue[priority-1].append(item)\n",
    "    if len(queue[0]) != 0:\n",
    "        next_item = queue[0].pop(0)\n",
    "        print('Queue', 1, 'value', next_item)\n",
    "    elif len(queue[1]) != 0:\n",
    "        next_item = queue[1].pop(0)\n",
    "        print('Queue', 2, 'value', next_item)\n",
    "    elif len(queue[2]) != 0:\n",
    "        next_item = queue[2].pop(0)\n",
    "        print('Queue', 3, 'value', next_item)\n",
    "    else:\n",
    "        print('Queue is empty')\n",
    "        break\n",
    ">"
   ]
  },
  {
   "cell_type": "code",
   "execution_count": 33,
   "metadata": {
    "collapsed": false
   },
   "outputs": [
    {
     "name": "stdout",
     "output_type": "stream",
     "text": [
      "New priority and item: (None to skip) \n",
      "priority 1 item work\n",
      "New priority and item: (None to skip) \n",
      "priority 1 item games\n",
      "New priority and item: (None to skip) \n",
      "priority 2 item eat\n",
      "New priority and item: (None to skip) \n",
      "priority 2 item sleep\n",
      "New priority and item: (None to skip) 1 work\n",
      "priority 1 item work\n",
      "New priority and item: (None to skip) \n",
      "priority 3 item homework\n",
      "New priority and item: (None to skip) \n",
      "priority 3 item comics\n",
      "New priority and item: (None to skip) \n",
      "No more items\n"
     ]
    }
   ],
   "source": [
    "q = [[], [], []]\n",
    "q[0].extend(['work', 'games'])\n",
    "q[1].extend(['eat', 'sleep'])\n",
    "q[2].extend(['homework', 'comics'])\n",
    "#print(q)\n",
    "\n",
    "while True:\n",
    "    entry = input('New priority and item: (None to skip) ')\n",
    "    if entry != '':\n",
    "        priority, item = entry.split(' ')\n",
    "        q[int(priority)-1].append(item)\n",
    "    \n",
    "    if len(q[0]) > 0:\n",
    "        item = q[0].pop(0)\n",
    "        print('priority', 1, 'item', item)\n",
    "    elif len(q[1]) > 0:\n",
    "        item = q[1].pop(0)\n",
    "        print('priority', 2, 'item', item)\n",
    "    elif len(q[2]) > 0:\n",
    "        item = q[2].pop(0)\n",
    "        print('priority', 3, 'item', item)\n",
    "    else:\n",
    "        print('No more items')\n",
    "        break\n",
    "\n",
    "# Shallow copy\n",
    "#x = [[1, 2], [3, 4]]\n",
    "#y = x.copy()\n",
    "#y.append([5, 6])\n",
    "#y[0].append(10)\n",
    "#print(x)\n",
    "#print(y)\n"
   ]
  },
  {
   "cell_type": "markdown",
   "metadata": {},
   "source": [
    "## Tuples\n",
    "\n",
    "While we aren't going to go over any exercises with tuples, it is important to note that \n",
    "tuples are both immutable and, more importantly, hashable.  This is beneficial in using them\n",
    "in sets and as dictionary keys.  "
   ]
  },
  {
   "cell_type": "markdown",
   "metadata": {},
   "source": [
    "## Dictionaries\n",
    "\n",
    "Dictionaries are a pretty big workhorse of the python programming language.  You will find that they\n",
    "have many practical uses.  For the example below we will cover a problem that you can solve using a \n",
    "dictionary and some of the methods that will work with it.   "
   ]
  },
  {
   "cell_type": "markdown",
   "metadata": {},
   "source": [
    "### Exercise 5\n",
    "\n",
    "_Dictionary Usage_   \n",
    "\n",
    "1. Look at the dictionaries for states and cities\n",
    "2. output the value of the citie that is in state 'Florida'\n",
    "3. Add a new state 'Utah' with the abbreviation 'UT'\n",
    "4. Add a new city 'Provo' for 'UT'\n",
    "5. Remove 'Oregon' from the states\n",
    "6. Create a list of the different state abbreviations\n",
    "7. For each of the abbreviations, if they are not in cities, add them with the value 'Unknown'\n",
    "8. Output the states and the cities and the abbreviations\n",
    "\n",
    "<Answer:\n",
    "\n",
    "print(cities[states['Florida']])\n",
    "states['Utah'] = 'UT'\n",
    "cities['UT'] = 'Provo'\n",
    "del states['Oregon']\n",
    "abbreviations = list(states.values())\n",
    "for a in abbreviations:\n",
    "    if a not in cities:\n",
    "        cities[a] = 'Unknown'\n",
    "print(states)\n",
    "print(cities)\n",
    "print(abbreviations)\n",
    ">"
   ]
  },
  {
   "cell_type": "code",
   "execution_count": null,
   "metadata": {
    "collapsed": false
   },
   "outputs": [],
   "source": [
    "states = {\n",
    "    'Oregon': 'OR',\n",
    "    'Florida': 'FL',\n",
    "    'California': 'CA',\n",
    "    'New York': 'NY',\n",
    "    'Michigan': 'MI'\n",
    "}\n",
    "cities = {\n",
    "    'CA': 'San Francisco',\n",
    "    'MI': 'Detroit',\n",
    "    'FL': 'Jacksonville'\n",
    "}"
   ]
  },
  {
   "cell_type": "code",
   "execution_count": null,
   "metadata": {
    "collapsed": true
   },
   "outputs": [],
   "source": []
  }
 ],
 "metadata": {
  "kernelspec": {
   "display_name": "Python 3",
   "language": "python",
   "name": "python3"
  },
  "language_info": {
   "codemirror_mode": {
    "name": "ipython",
    "version": 3
   },
   "file_extension": ".py",
   "mimetype": "text/x-python",
   "name": "python",
   "nbconvert_exporter": "python",
   "pygments_lexer": "ipython3",
   "version": "3.5.2"
  }
 },
 "nbformat": 4,
 "nbformat_minor": 2
}
