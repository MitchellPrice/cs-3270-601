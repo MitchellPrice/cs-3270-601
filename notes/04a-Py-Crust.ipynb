{
 "cells": [
  {
   "cell_type": "markdown",
   "metadata": {},
   "source": [
    "Chapter 4a - Py Crust\n",
    "==============================\n",
    "\n",
    "In this chapter we are starting to cover the meat of python, how we\n",
    "can take the other tid-bits and create in depth applications.  \n",
    "\n",
    "For this chapter we specifically cover the below items:  \n",
    "\n",
    "* comments\n",
    "* conditions\n",
    "* looping, iterating\n",
    "* list comprehension\n",
    "* functions\n",
    "* generators\n",
    "* decorators\n",
    "* namespaces\n",
    "* exceptions"
   ]
  },
  {
   "cell_type": "markdown",
   "metadata": {},
   "source": [
    "## Exercise 1\n",
    "\n",
    "_Playing with zip_   \n",
    "\n",
    "In this exercise we are going to use the zip mechanism to combine two\n",
    "seperate lists into a tuple and then create a dictionary out of that\n",
    "list.  \n",
    "\n",
    "1. Combine the two lists into a new list of tuples (without zip)\n",
    "2. Combine the two lists into a new list of tuples (with zip)\n",
    "3. Create a dictionary from the results of step 2\n",
    "\n",
    "<Answer\n",
    "\n",
    "together = []\n",
    "max_length = len(days)\n",
    "if len(activity) < len(days):\n",
    "    max_length = len(activity)\n",
    "for i in range(max_length):\n",
    "    together.append((days[i], activity[i],))\n",
    "print(together)    \n",
    "\n",
    "together = list(zip(days, activity))\n",
    "print(together)\n",
    "\n",
    "result = dict(together)\n",
    "print(result)\n",
    ">"
   ]
  },
  {
   "cell_type": "code",
   "execution_count": null,
   "metadata": {
    "collapsed": false
   },
   "outputs": [],
   "source": [
    "days = ['Monday', 'Tuesday', 'Wednesday', 'Thursday', 'Friday', 'Saturday']\n",
    "activity = ['Swimming', 'Basketball', 'Volleyball', 'Biking', 'Shooting']"
   ]
  },
  {
   "cell_type": "markdown",
   "metadata": {},
   "source": [
    "## Exercise 2\n",
    "\n",
    "_Playing with comprehension_  \n",
    "\n",
    "In this exercise we are going to be using comprehensions to become\n",
    "more familar with the power and syntax that it uses.  \n",
    "\n",
    "1. Create a new list of the values 0 to 20 using range\n",
    "2. Square all values in list using list comprehension\n",
    "3. Create a list of values that are just prime numbers from list"
   ]
  },
  {
   "cell_type": "code",
   "execution_count": null,
   "metadata": {
    "collapsed": true
   },
   "outputs": [],
   "source": []
  }
 ],
 "metadata": {
  "kernelspec": {
   "display_name": "Python 3",
   "language": "python",
   "name": "python3"
  },
  "language_info": {
   "codemirror_mode": {
    "name": "ipython",
    "version": 3
   },
   "file_extension": ".py",
   "mimetype": "text/x-python",
   "name": "python",
   "nbconvert_exporter": "python",
   "pygments_lexer": "ipython3",
   "version": "3.5.2"
  }
 },
 "nbformat": 4,
 "nbformat_minor": 2
}
