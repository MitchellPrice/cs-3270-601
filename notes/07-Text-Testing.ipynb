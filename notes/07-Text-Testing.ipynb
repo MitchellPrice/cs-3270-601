{
 "cells": [
  {
   "cell_type": "markdown",
   "metadata": {},
   "source": [
    "Text and Testing\n",
    "===================\n",
    "\n",
    "This section will cover exercises that we will run against both text items as well at those that are\n",
    "around working with python validation/testing.   "
   ]
  },
  {
   "cell_type": "markdown",
   "metadata": {},
   "source": [
    "## Encoding/Decoding\n",
    "\n",
    "For this first exercise we are just going to get familiar with the encoding system.  \n",
    "\n",
    "- Here lets create a string variable named `utf_test` that contains the unicode character Ã (\\u00C3)\n",
    "\n",
    "<Answer\n",
    "utf_test = '\\u00C3'\n",
    "print(utf_test)\n",
    ">"
   ]
  },
  {
   "cell_type": "code",
   "execution_count": 13,
   "metadata": {
    "collapsed": false
   },
   "outputs": [
    {
     "name": "stdout",
     "output_type": "stream",
     "text": [
      "Ãllen\n"
     ]
    }
   ],
   "source": [
    "utf_test = '\\u00C3llen'\n",
    "print(utf_test)"
   ]
  },
  {
   "cell_type": "markdown",
   "metadata": {},
   "source": [
    "- Next thing we will do is to take the utf_test and convert it to binary (encode) and assign to `utf_binary`   \n",
    "\n",
    "<Answer\n",
    "utf_binary = utf_test.encode()\n",
    "print(utf_binary)\n",
    ">"
   ]
  },
  {
   "cell_type": "code",
   "execution_count": 14,
   "metadata": {
    "collapsed": false
   },
   "outputs": [
    {
     "name": "stdout",
     "output_type": "stream",
     "text": [
      "b'\\xc3\\x83llen'\n",
      "5\n",
      "6\n"
     ]
    }
   ],
   "source": [
    "utf_binary = utf_test.encode()\n",
    "print(utf_binary)\n",
    "\n",
    "print(len(utf_test))\n",
    "print(len(utf_binary))"
   ]
  },
  {
   "cell_type": "markdown",
   "metadata": {},
   "source": [
    "- Now we will decode the string and print the decoded results   \n",
    "\n",
    "<Answer\n",
    "print(utf_binary.decode())\n",
    ">"
   ]
  },
  {
   "cell_type": "code",
   "execution_count": 15,
   "metadata": {
    "collapsed": false
   },
   "outputs": [
    {
     "name": "stdout",
     "output_type": "stream",
     "text": [
      "Ãllen\n"
     ]
    }
   ],
   "source": [
    "print(utf_binary.decode())"
   ]
  },
  {
   "cell_type": "markdown",
   "metadata": {},
   "source": [
    "- Now lets encode `utf_test` as an ascii value into the variable `ascii_test`  \n",
    "\n",
    "<Answer\n",
    "ascii_test = utf_test.encode('ascii', 'replace')\n",
    "print(ascii_test)\n",
    ">"
   ]
  },
  {
   "cell_type": "code",
   "execution_count": 16,
   "metadata": {
    "collapsed": false
   },
   "outputs": [
    {
     "name": "stdout",
     "output_type": "stream",
     "text": [
      "b'?llen'\n",
      "b'llen'\n"
     ]
    }
   ],
   "source": [
    "ascii_test = utf_test.encode('ascii', 'replace')\n",
    "print(ascii_test)\n",
    "print(utf_test.encode('ascii', 'ignore'))"
   ]
  },
  {
   "cell_type": "markdown",
   "metadata": {},
   "source": [
    "- Finally we will decode the ascii version and print the results   \n",
    "\n",
    "<Answer\n",
    "print(ascii_test.decode('ascii'))\n",
    ">"
   ]
  },
  {
   "cell_type": "code",
   "execution_count": 17,
   "metadata": {
    "collapsed": false
   },
   "outputs": [
    {
     "name": "stdout",
     "output_type": "stream",
     "text": [
      "?llen\n"
     ]
    }
   ],
   "source": [
    "print(ascii_test.decode('ascii'))"
   ]
  },
  {
   "cell_type": "markdown",
   "metadata": {},
   "source": [
    "## Working with Regex\n",
    "\n",
    "For this next section we are going to run through a couple of regular expression tests.   "
   ]
  },
  {
   "cell_type": "code",
   "execution_count": 19,
   "metadata": {
    "collapsed": true
   },
   "outputs": [],
   "source": [
    "import re"
   ]
  },
  {
   "cell_type": "markdown",
   "metadata": {},
   "source": [
    "- First regex, lets create a credit card number regex that will group the last 4 digits (with or without space)   \n",
    "\n",
    "<Answer\n",
    "cc_regex = '(\\d{4}\\s*){4}'\n",
    ">"
   ]
  },
  {
   "cell_type": "code",
   "execution_count": 36,
   "metadata": {
    "collapsed": false
   },
   "outputs": [
    {
     "name": "stdout",
     "output_type": "stream",
     "text": [
      "('1234', '5683', '2343', '2432')\n",
      "4333444455556666\n",
      "('4333', '4444', '5555', '6666')\n",
      "4444\n"
     ]
    }
   ],
   "source": [
    "cc_regex = '(\\d{4})\\s?(?P<cc2>\\d{4})\\s?(\\d{4})\\s?(\\d{4})'   # TODO\n",
    "\n",
    "test_1 = '1234 5683 2343 2432'\n",
    "test_1_result = re.search(cc_regex, test_1)\n",
    "\n",
    "print(test_1_result.groups())   # Should have 2432\n",
    "\n",
    "test_2 = '4333444455556666'\n",
    "test_2_result = re.search(cc_regex, test_2)\n",
    "\n",
    "print(test_2_result.group())\n",
    "print(test_2_result.groups())   # Should have 6666\n",
    "print(test_2_result.group('cc2'))"
   ]
  },
  {
   "cell_type": "markdown",
   "metadata": {},
   "source": [
    "- Next lets add a litte more that will match an email using gmail's + filtering\n",
    "  * Capture email specifics\n",
    "  * Capture filter item\n",
    "  * Capture domain\n",
    "  \n",
    "<Answer - Easy\n",
    "email_regex = '([\\w\\.]+)'\n",
    "\n",
    "test_1 = 'tom.riddle+regexone@hogwarts.com'\n",
    "test_1_result = re.findall(email_regex, test_1)\n",
    "\n",
    "print(test_1_result)\n",
    ">\n",
    "\n",
    "<Answer - Named\n",
    "email_regex = '(?P<name>[\\w\\.]+)\\+?(?P<filter>[\\w\\.]*)@(?P<domain>[\\w\\.]+)'\n",
    ">"
   ]
  },
  {
   "cell_type": "code",
   "execution_count": 53,
   "metadata": {
    "collapsed": false
   },
   "outputs": [
    {
     "name": "stdout",
     "output_type": "stream",
     "text": [
      "<_sre.SRE_Match object; span=(0, 26), match='mk.wright+myfilter@uvu.edu'>\n",
      "('mk.wright', '+myfilter', 'myfilter', 'uvu.edu')\n",
      "mk.wright\n",
      "myfilter\n",
      "uvu.edu\n"
     ]
    }
   ],
   "source": [
    "email_regex = '^(?P<user>[\\w\\.]+)(\\+(?P<filter>[\\w\\.]+))?@(?P<domain>[\\w\\.]+)'    # Todo\n",
    "\n",
    "test_1 = 'mk.wright+myfilter@uvu.edu'\n",
    "#test_1 = 'mkwright@uvu.edu'\n",
    "#test_1 = 'a@b10'\n",
    "test_1_result = re.search(email_regex, test_1)\n",
    "\n",
    "print(test_1_result)\n",
    "print(test_1_result.groups())\n",
    "print(test_1_result.group('user'))\n",
    "print(test_1_result.group('filter'))\n",
    "print(test_1_result.group('domain'))"
   ]
  },
  {
   "cell_type": "markdown",
   "metadata": {},
   "source": [
    "## Binary Sample\n",
    "\n",
    "For this sample set we are going to play around with binary data, and maybe even unpack a file.  "
   ]
  },
  {
   "cell_type": "code",
   "execution_count": 58,
   "metadata": {
    "collapsed": true
   },
   "outputs": [],
   "source": [
    "import struct"
   ]
  },
  {
   "cell_type": "markdown",
   "metadata": {},
   "source": [
    "- Lets create a byte string of the ASCII word 'HELLO' using a list of numbers into variable `word_bin`   \n",
    "\n",
    "<Answer\n",
    "word_bin = bytes([72, 69, 76, 76, 79])\n",
    ">"
   ]
  },
  {
   "cell_type": "code",
   "execution_count": 56,
   "metadata": {
    "collapsed": false
   },
   "outputs": [
    {
     "name": "stdout",
     "output_type": "stream",
     "text": [
      "b'HELLO'\n"
     ]
    }
   ],
   "source": [
    "word_bin = bytes([72, 69, 76, 76, 79])\n",
    "print(word_bin)"
   ]
  },
  {
   "cell_type": "markdown",
   "metadata": {},
   "source": [
    "- Now we will mutate the variable `word_bin` to be HLELO    \n",
    "\n",
    "<Answer\n",
    "word_bin = bytearray(word_bin)\n",
    "word_bin[1], word_bin[2] = word_bin[2], word_bin[1]\n",
    ">"
   ]
  },
  {
   "cell_type": "code",
   "execution_count": 57,
   "metadata": {
    "collapsed": false
   },
   "outputs": [
    {
     "name": "stdout",
     "output_type": "stream",
     "text": [
      "bytearray(b'HLELO')\n"
     ]
    }
   ],
   "source": [
    "word_bin = bytearray(word_bin)\n",
    "word_bin[1], word_bin[2] = word_bin[2], word_bin[1]\n",
    "print(word_bin)"
   ]
  },
  {
   "cell_type": "markdown",
   "metadata": {},
   "source": [
    "- For this section we are going to read in a file (notes-07/sample.png) in binary   \n",
    "  * We will then make sure it is a png\n",
    "  * Then we will get the width and height\n",
    "  \n",
    "<Answer\n",
    "with open('notes-07/sample.png', 'rb') as f:\n",
    "    results = f.read()\n",
    "    \n",
    "print(len(results))\n",
    "png_header = b'\\x89PNG\\r\\n\\x1a\\n'\n",
    "\n",
    "if results[:8] == png_header:\n",
    "    width, height = struct.unpack('LL', results[16:24])\n",
    "    print(width, height)\n",
    "else:\n",
    "    print('Not a png')\n",
    ">"
   ]
  },
  {
   "cell_type": "code",
   "execution_count": 61,
   "metadata": {
    "collapsed": false
   },
   "outputs": [
    {
     "name": "stdout",
     "output_type": "stream",
     "text": [
      "1180 1350\n"
     ]
    }
   ],
   "source": [
    "png_header = b'\\x89PNG\\r\\n\\x1a\\n'\n",
    "\n",
    "with open('notes-07/sample.png', 'rb') as f:\n",
    "    result = f.read()\n",
    "\n",
    "#print(result[:8])    \n",
    "if result[:8] == png_header:\n",
    "    width, height = struct.unpack('>LL', result[16:24])\n",
    "    print(width, height)\n",
    "else:\n",
    "    print('Not png')"
   ]
  },
  {
   "cell_type": "code",
   "execution_count": null,
   "metadata": {
    "collapsed": true
   },
   "outputs": [],
   "source": []
  }
 ],
 "metadata": {
  "kernelspec": {
   "display_name": "Python 3",
   "language": "python",
   "name": "python3"
  },
  "language_info": {
   "codemirror_mode": {
    "name": "ipython",
    "version": 3
   },
   "file_extension": ".py",
   "mimetype": "text/x-python",
   "name": "python",
   "nbconvert_exporter": "python",
   "pygments_lexer": "ipython3",
   "version": "3.5.2"
  }
 },
 "nbformat": 4,
 "nbformat_minor": 2
}
