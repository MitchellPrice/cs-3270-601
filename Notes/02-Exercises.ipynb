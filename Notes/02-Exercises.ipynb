{
 "cells": [
  {
   "cell_type": "markdown",
   "metadata": {},
   "source": [
    "Let’s create a calculator\n",
    "================\n",
    "\n",
    "We are going to create a simple calculator that gets input from the user\n",
    "and will run operations against the input.  \n",
    "\n",
    "## Operations\n",
    "\n",
    "* +  \n",
    "* - \n",
    "* *\n",
    "* /\n",
    "\n",
    "* sin \n",
    "* cos\n",
    "\n",
    "Output the results in the form of:   \n",
    "    \n",
    "        left_num operation right_num = answer\n",
    "    \n",
    "loop until empty string.   "
   ]
  },
  {
   "cell_type": "code",
   "execution_count": 3,
   "metadata": {
    "collapsed": false
   },
   "outputs": [
    {
     "name": "stdout",
     "output_type": "stream",
     "text": [
      "What is the first number? 1\n",
      "What operation? sin\n",
      "What is the second number? 1.2\n",
      "1.0 sin 1.2 = 0.9320390859672263\n",
      "What is the first number? \n"
     ]
    }
   ],
   "source": [
    "from math import sin, cos\n",
    "\n",
    "while True:\n",
    "    x = input('What is the first number? ')\n",
    "    if x == '':\n",
    "        break\n",
    "        \n",
    "    operation = input('What operation? ')\n",
    "    y = input('What is the second number? ')\n",
    "        \n",
    "    x = float(x)\n",
    "    y = float(y)\n",
    "    if operation == '+':\n",
    "        result = x + y\n",
    "    elif operation == '-':\n",
    "        result = x - y\n",
    "    elif operation == '*':\n",
    "        result = x * y\n",
    "    elif operation == '/':\n",
    "        result = x / y\n",
    "    elif operation == 'sin':\n",
    "        result = x * sin(y)\n",
    "    elif operation == 'cos':\n",
    "        result = x * cos(y)\n",
    "    else:\n",
    "        result = -1\n",
    "        print('Whoops, unknown operation')\n",
    "    \n",
    "    print(x, operation, y, '=', result)\n",
    "    "
   ]
  },
  {
   "cell_type": "markdown",
   "metadata": {},
   "source": [
    "Pretty Printing\n",
    "===================\n",
    "\n",
    "Create a single variable\n",
    "1. Has your name\n",
    "2. UVU ID\n",
    "3. Class Section\n",
    "\n",
    "Print surrounded by *   \n",
    "* Header is 20\n",
    "* Footer is 15"
   ]
  },
  {
   "cell_type": "code",
   "execution_count": 5,
   "metadata": {
    "collapsed": false
   },
   "outputs": [
    {
     "name": "stdout",
     "output_type": "stream",
     "text": [
      "********************\n",
      "Mike Wright\n",
      "    10016998\n",
      "    CS3270 - 601\n",
      "\n",
      "***************\n"
     ]
    }
   ],
   "source": [
    "details = \"\"\"Mike Wright\n",
    "    10016998\n",
    "    CS3270 - 601\n",
    "\"\"\"\n",
    "print('*' * 20)\n",
    "print(details)\n",
    "print('*' * 15)\n"
   ]
  },
  {
   "cell_type": "code",
   "execution_count": 12,
   "metadata": {
    "collapsed": false
   },
   "outputs": [
    {
     "name": "stdout",
     "output_type": "stream",
     "text": [
      "['This', 'is', 'a', 'string']\n",
      "This,is,a,string\n",
      "This Is A String\n",
      "            This Is A String            \n",
      "This -- is -- a -- string\n"
     ]
    }
   ],
   "source": [
    "x = \"This is a string\"\n",
    "y = x.split()\n",
    "print(y)\n",
    "z = ','.join(y)\n",
    "print(z)\n",
    "a = x.title()\n",
    "print(a)\n",
    "print(a.center(40))\n",
    "print(z.replace(',', ' -- '))"
   ]
  },
  {
   "cell_type": "markdown",
   "metadata": {
    "collapsed": true
   },
   "source": [
    "## Edgar Allen Poe'm\n",
    "\n",
    "So for this exercise we are going to take a poem from Edgar Allen Poe and \n",
    "play with the string functions to create something new and different.   \n",
    "\n",
    "The poem is [Alone](http://poestories.com/read/alone) and we will complete these\n",
    "operations.  \n",
    "\n",
    "1. Split the strings on the newlines\n",
    "2. Remove the -- from end of lines\n",
    "3. Replace the -- in the lines with a ,\n",
    "4. Take the line that starts with ( and make it all caps )\n"
   ]
  },
  {
   "cell_type": "code",
   "execution_count": 14,
   "metadata": {
    "collapsed": false
   },
   "outputs": [
    {
     "name": "stdout",
     "output_type": "stream",
     "text": [
      "          Removed the -- at end of line           \n",
      "From childhood's hour I have not been\n",
      "As others were -- I have not seen\n",
      "As others saw -- I could not bring\n",
      "My passions from a common spring \n",
      "From the same source I have not taken\n",
      "My sorrow -- I could not awaken\n",
      "My heart to joy at the same tone \n",
      "And all I lov'd  I lov'd alone \n",
      "Then -- in my childhood -- in the dawn\n",
      "Of a most stormy life -- was drawn\n",
      "From ev'ry depth of good and ill\n",
      "The mystery which binds me still \n",
      "From the torrent, or the fountain \n",
      "From the red cliff of the mountain \n",
      "From the sun that 'round me roll'd\n",
      "In its autumn tint of gold \n",
      "From the lightning in the sky\n",
      "As it pass'd me flying by \n",
      "From the thunder, and the storm \n",
      "And the cloud that took the form\n",
      "(When the rest of Heaven was blue)\n",
      "Of a demon in my view  \n",
      "\n",
      "       Replaced -- in middle of line with ,       \n",
      "From childhood's hour I have not been\n",
      "As others were ,  I have not seen\n",
      "As others saw ,  I could not bring\n",
      "My passions from a common spring \n",
      "From the same source I have not taken\n",
      "My sorrow ,  I could not awaken\n",
      "My heart to joy at the same tone \n",
      "And all I lov'd  I lov'd alone \n",
      "Then ,  in my childhood ,  in the dawn\n",
      "Of a most stormy life ,  was drawn\n",
      "From ev'ry depth of good and ill\n",
      "The mystery which binds me still \n",
      "From the torrent, or the fountain \n",
      "From the red cliff of the mountain \n",
      "From the sun that 'round me roll'd\n",
      "In its autumn tint of gold \n",
      "From the lightning in the sky\n",
      "As it pass'd me flying by \n",
      "From the thunder, and the storm \n",
      "And the cloud that took the form\n",
      "(When the rest of Heaven was blue)\n",
      "Of a demon in my view  \n",
      "\n",
      "             Upper cased the () lines             \n",
      "From childhood's hour I have not been\n",
      "As others were ,  I have not seen\n",
      "As others saw ,  I could not bring\n",
      "My passions from a common spring \n",
      "From the same source I have not taken\n",
      "My sorrow ,  I could not awaken\n",
      "My heart to joy at the same tone \n",
      "And all I lov'd  I lov'd alone \n",
      "Then ,  in my childhood ,  in the dawn\n",
      "Of a most stormy life ,  was drawn\n",
      "From ev'ry depth of good and ill\n",
      "The mystery which binds me still \n",
      "From the torrent, or the fountain \n",
      "From the red cliff of the mountain \n",
      "From the sun that 'round me roll'd\n",
      "In its autumn tint of gold \n",
      "From the lightning in the sky\n",
      "As it pass'd me flying by \n",
      "From the thunder, and the storm \n",
      "And the cloud that took the form\n",
      "(WHEN THE REST OF HEAVEN WAS BLUE)\n",
      "Of a demon in my view  \n",
      "\n"
     ]
    }
   ],
   "source": [
    "poem = \"\"\"From childhood's hour I have not been\n",
    "As others were -- I have not seen\n",
    "As others saw -- I could not bring\n",
    "My passions from a common spring --\n",
    "From the same source I have not taken\n",
    "My sorrow -- I could not awaken\n",
    "My heart to joy at the same tone --\n",
    "And all I lov'd -- I lov'd alone --\n",
    "Then -- in my childhood -- in the dawn\n",
    "Of a most stormy life -- was drawn\n",
    "From ev'ry depth of good and ill\n",
    "The mystery which binds me still --\n",
    "From the torrent, or the fountain --\n",
    "From the red cliff of the mountain --\n",
    "From the sun that 'round me roll'd\n",
    "In its autumn tint of gold --\n",
    "From the lightning in the sky\n",
    "As it pass'd me flying by --\n",
    "From the thunder, and the storm --\n",
    "And the cloud that took the form\n",
    "(When the rest of Heaven was blue)\n",
    "Of a demon in my view --\"\"\"\n",
    "\n",
    "poem_lines = poem.split('\\n')\n",
    "end_remove = []\n",
    "for line in poem_lines:\n",
    "    if line.endswith('--'):\n",
    "        end_remove.append(line.replace('--', ''))\n",
    "    else:\n",
    "        end_remove.append(line)  \n",
    "print('Removed the -- at end of line'.center(50))\n",
    "print('\\n'.join(new_lines), '\\n')\n",
    "\n",
    "middle_remove = []\n",
    "for line in end_remove:\n",
    "    middle_remove.append(line.replace('--', ', '))\n",
    "print('Replaced -- in middle of line with ,'.center(50))\n",
    "print('\\n'.join(middle_remove), '\\n')\n",
    "    \n",
    "upper_lines = []\n",
    "for line in middle_remove:\n",
    "    if line.startswith('('):\n",
    "        upper_lines.append(line.upper())\n",
    "    else:\n",
    "        upper_lines.append(line)\n",
    "print('Upper cased the () lines'.center(50))\n",
    "print('\\n'.join(upper_lines), '\\n')"
   ]
  },
  {
   "cell_type": "code",
   "execution_count": null,
   "metadata": {
    "collapsed": true
   },
   "outputs": [],
   "source": []
  }
 ],
 "metadata": {
  "kernelspec": {
   "display_name": "Python 3",
   "language": "python",
   "name": "python3"
  },
  "language_info": {
   "codemirror_mode": {
    "name": "ipython",
    "version": 3
   },
   "file_extension": ".py",
   "mimetype": "text/x-python",
   "name": "python",
   "nbconvert_exporter": "python",
   "pygments_lexer": "ipython3",
   "version": "3.5.3"
  }
 },
 "nbformat": 4,
 "nbformat_minor": 2
}
