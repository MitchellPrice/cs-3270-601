{
 "cells": [
  {
   "cell_type": "markdown",
   "metadata": {},
   "source": [
    "Database Project\n",
    "==============================\n",
    "\n",
    "This is our first example of an in class project.  In this project I will be going through the steps\n",
    "that are listed below to help us to create a new system that can act like a database.  This will work\n",
    "by using the following items. \n",
    "\n",
    "1. Functions\n",
    "  * especially lambdas\n",
    "2. Generators\n",
    "3. Decorators\n",
    "4. Set Operations"
   ]
  },
  {
   "cell_type": "markdown",
   "metadata": {},
   "source": [
    "### Permissions\n",
    "\n",
    "We will implement the idea of a permission for each of our database functions, we will do this by creating a \n",
    "decorator that will look at our global user and if the user has the required permission they can run it.  \n",
    "\n",
    "    @authorize('Admin')\n",
    "    def delete_query():\n",
    "        pass"
   ]
  },
  {
   "cell_type": "markdown",
   "metadata": {},
   "source": [
    "### Streams\n",
    "\n",
    "We will be able to create queries that can \"join\" by the fact that they will be each returning a generator\n",
    "(not a set list) that we can then use to create other generators.  \n",
    "\n",
    "    def select_query(where):\n",
    "        return (x for x in table if where(x))\n",
    "\n",
    "    def join(query1, field1, query2, field2):\n",
    "        return ((q1, q2) for q1 in query1 for q2 in query2 if q1[field1] == q2[field2])"
   ]
  },
  {
   "cell_type": "markdown",
   "metadata": {},
   "source": [
    "## Helper functions\n",
    "\n",
    "At this point I am going to create a few helper functions that will be used for this system. This\n",
    "will help in data generation and other operations.  "
   ]
  },
  {
   "cell_type": "code",
   "execution_count": null,
   "metadata": {
    "collapsed": true
   },
   "outputs": [],
   "source": [
    "import random"
   ]
  },
  {
   "cell_type": "markdown",
   "metadata": {
    "collapsed": true
   },
   "source": [
    "## First Steps\n",
    "\n",
    "For the first step we are going to define our global values, this includes our tables and our user info.  \n",
    "\n",
    "We will also want to create some test data that we will put into our created tables.  "
   ]
  },
  {
   "cell_type": "code",
   "execution_count": null,
   "metadata": {
    "collapsed": true
   },
   "outputs": [],
   "source": [
    "# Student Table (id*, name*)\n",
    "student_table = []\n",
    "# Class Table (id*, name*, time)\n",
    "class_table = []\n",
    "# Assignment Table (id*, name*, total_score*)\n",
    "assignment_table = []\n",
    "# Students Classes Table (student_id*, class_id*, grade)\n",
    "student_class_table = []\n",
    "# Student Assignment Table (student_id*, class_id*, assignment_id*, score)\n",
    "student_assignment_table = []"
   ]
  },
  {
   "cell_type": "code",
   "execution_count": null,
   "metadata": {
    "collapsed": true
   },
   "outputs": [],
   "source": [
    "users_list = {\n",
    "    'teacher': {'Admin', 'User'},\n",
    "    'student': {'User'},\n",
    "}\n",
    "\n",
    "user = 'student'"
   ]
  },
  {
   "cell_type": "code",
   "execution_count": null,
   "metadata": {
    "collapsed": false
   },
   "outputs": [],
   "source": []
  },
  {
   "cell_type": "markdown",
   "metadata": {},
   "source": [
    "## Second step\n",
    "\n",
    "At this point we are going to create a few helper functions that we can use to query data"
   ]
  },
  {
   "cell_type": "code",
   "execution_count": null,
   "metadata": {
    "collapsed": false
   },
   "outputs": [],
   "source": []
  },
  {
   "cell_type": "code",
   "execution_count": null,
   "metadata": {
    "collapsed": false
   },
   "outputs": [],
   "source": []
  },
  {
   "cell_type": "code",
   "execution_count": null,
   "metadata": {
    "collapsed": false
   },
   "outputs": [],
   "source": []
  },
  {
   "cell_type": "markdown",
   "metadata": {},
   "source": [
    "## Queries\n",
    "\n",
    "* Students who are in Dance or Finance.  \n",
    "* Students in Dance and Computer Science.\n",
    "* Average Score for Eassay assignment in class Computer Science\n"
   ]
  },
  {
   "cell_type": "code",
   "execution_count": null,
   "metadata": {
    "collapsed": false
   },
   "outputs": [],
   "source": []
  },
  {
   "cell_type": "code",
   "execution_count": null,
   "metadata": {
    "collapsed": true
   },
   "outputs": [],
   "source": []
  }
 ],
 "metadata": {
  "anaconda-cloud": {},
  "kernelspec": {
   "display_name": "Python [default]",
   "language": "python",
   "name": "python3"
  },
  "language_info": {
   "codemirror_mode": {
    "name": "ipython",
    "version": 3
   },
   "file_extension": ".py",
   "mimetype": "text/x-python",
   "name": "python",
   "nbconvert_exporter": "python",
   "pygments_lexer": "ipython3",
   "version": "3.5.2"
  }
 },
 "nbformat": 4,
 "nbformat_minor": 2
}
