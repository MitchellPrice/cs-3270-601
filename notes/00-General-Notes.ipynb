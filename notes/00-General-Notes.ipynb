{
 "cells": [
  {
   "cell_type": "markdown",
   "metadata": {},
   "source": [
    "Notes and Tools\n",
    "======================================\n",
    "\n",
    "This is a page that contains tools, links and notes used through the course.    \n",
    "\n",
    "## Notes\n",
    "\n",
    "Notes from chapter 2 (Py Ingredients) has been uploaded.  \n"
   ]
  },
  {
   "cell_type": "markdown",
   "metadata": {},
   "source": [
    "## Syncing Repos\n",
    "\n",
    "If there are changes in the class repo you will want to pull those down, for this\n",
    "class all notes done in class, exercises and other content will all be shared through\n",
    "the git repository and not on canvas so I would recommend that you attempt a sync\n",
    "at least every day before class.   \n",
    "\n",
    "To pull down the updates for the class repo you will want to make sure that you do not\n",
    "have any `uncommitted changes`.  So first check the status of your repo.  \n",
    "\n",
    "        git status\n",
    "        \n",
    "If you get the message that you are working on a clean copy, or that you have no changes\n",
    "that have been stages you can move on to the next step and sync the `upstream` repo.  If\n",
    "you have changes, however, you will first need to commit those changes before the pull.\n",
    "\n",
    "**Note: This is actually not always required, but is good practice for now**    \n",
    "\n",
    "        git pull upstream master\n",
    "        \n",
    "That should apply any new changes from the upstream (class repo) to your local repo on your\n",
    "laptop/desktop.   \n",
    "\n",
    "If the above command fails you may need to make sure that you have the remote on your system\n",
    "which you can check by running the below command.   \n",
    "\n",
    "        git remote -v\n",
    "        \n",
    "When running this command you should see 4 entries, 2 of them are `origin` and 2 of them\n",
    "should be `upstream`.   If the upstream is missing, please use the command to re-add the \n",
    "upstream as described in the submission file."
   ]
  },
  {
   "cell_type": "markdown",
   "metadata": {},
   "source": [
    "## Python Virtual Environment\n",
    "\n",
    "We are having jupyter setup in a virtual environment so that it will be easy to \n",
    "get all dependencies for the system installed without having to have potential\n",
    "issues with other libraries that your system might have installed, for this purpose\n",
    "the class will have all code created in a virtual environment.   \n"
   ]
  },
  {
   "cell_type": "markdown",
   "metadata": {},
   "source": [
    "### Mac / Linux\n",
    "\n",
    "If you are running on a mac or a linux system make sure that you have both python\n",
    "installed (3.5) and that you have the venv module by running the below command.  \n",
    "\n",
    "        python -m venv\n",
    "        \n",
    "If you get an error such as `no command named python` or `module venv not found` \n",
    "then there is an issue with your installation that needs to be resolved.   \n",
    "\n",
    "Once the issue with your installation is resolved you can run the below command\n",
    "from the root of your repo, to get the virtual environment setup.  \n",
    "\n",
    "        bin/setup_venv\n",
    "        \n",
    "This creates a virtual environment for your class repo, however you will need\n",
    "to activate it for each terminal (bash shell) that you open.  You can do so\n",
    "by running the below command.  \n",
    "\n",
    "**NOTE: You will need to run this everytime.**   \n",
    "\n",
    "        source .env/bin/activate\n",
    "        \n",
    "If all has been completed successfully you should see a new entry on the left of \n",
    "your terminal (at the prompt) that should be `(.env)`.  If that is not found \n",
    "there may have been an error in the previous step, so try the step again and\n",
    "if that fails contact me with detail on the error.   \n",
    "\n",
    "Now you should be in an environment that will allow for jupyter and ipython\n",
    "to be run successfully which you can test by running either of the below \n",
    "commands.  \n",
    "\n",
    "        # Start up the notebook\n",
    "        jupyter notebook\n",
    "        \n",
    "        # Start up the interpreter (REPL)\n",
    "        ipython"
   ]
  },
  {
   "cell_type": "markdown",
   "metadata": {},
   "source": [
    "### Windows\n",
    "\n",
    "For windows I am assuming that you are using windows 7 or greater and that you\n",
    "are not using ubuntu for windows or any other vm.    \n",
    "\n",
    "First you will want to make sure that you have python 3.5 installed on your system\n",
    "and that you can access it from the command prompt.  So start by opening a new \n",
    "`command prompt (cmd.exe)` and running the below command.  \n",
    "\n",
    "**NOTE: This is not the git bash, it is the windows built-in command prompt**   \n",
    "\n",
    "        python -m venv\n",
    "        \n",
    "If that command return an error that either `no command named python` or \n",
    "`module venv not found` you likely have a bad installation of python.  Go through\n",
    "the process of uninstalling (if one exists) and then reinstalling python, and be\n",
    "sure to select the checkbox `Add Python 3.5 to PATH` as found in this image (bottom left)    \n",
    "\n",
    "[windows python setup](https://docs.python.org/3/using/windows.html)  \n",
    "![windows python installer](images/win_installer.png)     \n",
    "\n",
    "Once you have python installed and able to be run the `command prompt` program you\n",
    "can then navigate to the root of your project repo and run the below command.   \n",
    "\n",
    "        bin\\setup_venv.bat\n",
    "        \n",
    "Once this completes you should see `(.env)` on the left of your prompt in `command prompt`. \n",
    "This will always need to be there to work in the enviornment, if you open a new \n",
    "`command prompt` it will not have `(.env)` be default and you will either need to run\n",
    "the above command again or run the following command.   \n",
    "\n",
    "**NOTE: You will likely need to run this everytime.**  \n",
    "\n",
    "        .env\\Scripts\\activate.bat\n",
    "        \n",
    "At this point you should have the virtual environment setup with jupyter and ipython\n",
    "installed which you can verify by running the below commands.  \n",
    "\n",
    "        REM This starts up the notebook\n",
    "        jupyter notebook \n",
    "        \n",
    "        REM This starts up the python interpreter (REPL)\n",
    "        ipython"
   ]
  },
  {
   "cell_type": "markdown",
   "metadata": {},
   "source": [
    "## Tools\n",
    "\n",
    "* [Code Formatter for Slides](http://markup.su/highlighter/)    "
   ]
  },
  {
   "cell_type": "code",
   "execution_count": null,
   "metadata": {
    "collapsed": true
   },
   "outputs": [],
   "source": []
  }
 ],
 "metadata": {
  "kernelspec": {
   "display_name": "Python 3",
   "language": "python",
   "name": "python3"
  },
  "language_info": {
   "codemirror_mode": {
    "name": "ipython",
    "version": 3
   },
   "file_extension": ".py",
   "mimetype": "text/x-python",
   "name": "python",
   "nbconvert_exporter": "python",
   "pygments_lexer": "ipython3",
   "version": "3.5.3"
  }
 },
 "nbformat": 4,
 "nbformat_minor": 2
}
