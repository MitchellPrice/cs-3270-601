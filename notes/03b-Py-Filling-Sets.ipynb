{
 "cells": [
  {
   "cell_type": "markdown",
   "metadata": {},
   "source": [
    "Chapter 3 - Py Filling\n",
    "==============================\n",
    "\n",
    "This notebook takes up where 03-Py-Filling left off, and provides a single\n",
    "exercise for working with sets and set operations.  \n",
    "\n",
    "For this notebook we specifically cover the below items:  \n",
    "\n",
    "* sets"
   ]
  },
  {
   "cell_type": "code",
   "execution_count": 14,
   "metadata": {
    "collapsed": true
   },
   "outputs": [],
   "source": [
    "from pprint import pprint\n",
    "import random\n",
    "import sys\n",
    "sys.path.insert(0, './notes-03')"
   ]
  },
  {
   "cell_type": "markdown",
   "metadata": {},
   "source": [
    "### Exercise 5\n",
    "\n",
    "_Dictionary Usage_   \n",
    "\n",
    "1. Look at the dictionaries for states and cities\n",
    "2. output the value of the city that is in state 'Florida'\n",
    "3. Add a new state 'Utah' with the abbreviation 'UT'\n",
    "4. Add a new city 'Provo' for 'UT'\n",
    "5. Remove 'Oregon' from the states\n",
    "6. Create a list of the different state abbreviations\n",
    "7. For each of the abbreviations, if they are not in cities, add them with the value 'Unknown'\n",
    "8. Output the states and the cities and the abbreviations"
   ]
  },
  {
   "cell_type": "code",
   "execution_count": 15,
   "metadata": {
    "collapsed": false
   },
   "outputs": [
    {
     "name": "stdout",
     "output_type": "stream",
     "text": [
      "Jacksonville\n",
      "['CA', 'FL', 'UT', 'MI', 'NY']\n",
      "{'CA': 'San Francisco',\n",
      " 'FL': 'Jacksonville',\n",
      " 'MI': 'Detroit',\n",
      " 'NY': 'Unknown',\n",
      " 'UT': 'Provo'}\n",
      "California CA San Francisco\n",
      "Florida FL Jacksonville\n",
      "Utah UT Provo\n",
      "Michigan MI Detroit\n",
      "New York NY Unknown\n"
     ]
    }
   ],
   "source": [
    "from pprint import pprint\n",
    "\n",
    "states = {\n",
    "    'Oregon': 'OR',\n",
    "    'Florida': 'FL',\n",
    "    'California': 'CA',\n",
    "    'New York': 'NY',\n",
    "    'Michigan': 'MI'\n",
    "}\n",
    "cities = {\n",
    "    'CA': 'San Francisco',\n",
    "    'MI': 'Detroit',\n",
    "    'FL': 'Jacksonville'\n",
    "}\n",
    "print(cities[states['Florida']])\n",
    "#states['Utah'] = 'UT'\n",
    "states.update({'Utah': 'UT'})\n",
    "cities['UT'] = 'Provo'\n",
    "del states['Oregon']\n",
    "abbr = list(states.values())\n",
    "print(abbr)\n",
    "for a in abbr:\n",
    "    if a not in cities:\n",
    "        cities[a] = 'Unknown'\n",
    "#print(cities)\n",
    "pprint(cities)\n",
    "#for s in states:\n",
    "#    print(s, states[s], cities[states[s]])\n",
    "for s, a in states.items():\n",
    "    print(s, a, cities[a])"
   ]
  },
  {
   "cell_type": "markdown",
   "metadata": {},
   "source": [
    "## Exercise 1\n",
    "\n",
    "For this first (and only) exercise, we are going to get more familiar\n",
    "with set operations and how they work inside of python.  \n",
    "\n",
    "We will start by taking a \"database\", players, that is defined below\n",
    "and running operations against the database. \n",
    "\n",
    "1. Create a dict of all series games keyed by series type\n",
    "  * each of the entries should be a dict with year, winners (set), losers (set) and games played (set)\n",
    "2. Print out all world series\n",
    "3. Print the years the world series went all 7 games (sorted)\n",
    "4. Print the winners of world series, with how many world series that they have won\n",
    "\n",
    "<Answer: \n",
    "part 1\n",
    "series_dict = {}\n",
    "for series in season_series:\n",
    "    if series[1] not in series_dict:\n",
    "        series_dict[series[1]] = list()\n",
    "    series_dict[series[1]].append(\n",
    "        {'year': series[0], \n",
    "         'winners': (series[2:4]), \n",
    "         'losers': (series[4:6]), \n",
    "         'games': {series[6:]}})\n",
    "         \n",
    "part 2\n",
    "world_series = series_dict['WS']\n",
    "# pprint(world_series)\n",
    "\n",
    "part 3\n",
    "seven_games = []\n",
    "for year in world_series:\n",
    "    if {(4, 3, 0)} & year['games']:\n",
    "        seven_games.append(year['year'])\n",
    "seven_games.sort()\n",
    "pprint(seven_games) \n",
    "\n",
    "part 4\n",
    "winners = {}\n",
    "for year in world_series:\n",
    "    winner = year['winners']\n",
    "    if winner[1] in winners:\n",
    "        winners[winner[0]] += 1\n",
    "    else:\n",
    "        winners[winner[0]] = 1\n",
    "pprint(winners)\n",
    ">"
   ]
  },
  {
   "cell_type": "code",
   "execution_count": 16,
   "metadata": {
    "collapsed": false
   },
   "outputs": [
    {
     "name": "stdout",
     "output_type": "stream",
     "text": [
      "[(2013, 'NLDS1', 'SLN', 'NL', 'PIT', 'NL', 3, 2, 0)]\n"
     ]
    }
   ],
   "source": [
    "from series import season_series\n",
    "\n",
    "# season_stats format\n",
    "# year,round,winner,win_name,loser,loser_name,wins,losses,ties\n",
    "print(random.sample(season_series, 1))"
   ]
  },
  {
   "cell_type": "code",
   "execution_count": 23,
   "metadata": {
    "collapsed": false
   },
   "outputs": [],
   "source": [
    "# Part 1\n",
    "\n",
    "series_dict = {}\n",
    "for series in season_series:\n",
    "    if series[1] not in series_dict:\n",
    "        series_dict[series[1]] = []\n",
    "    series_dict[series[1]].append({\n",
    "        'year': series[0],\n",
    "        'winners': series[2:4],\n",
    "        'losers': series[4:6],\n",
    "        'games': series[6:]\n",
    "    })\n"
   ]
  },
  {
   "cell_type": "code",
   "execution_count": 25,
   "metadata": {
    "collapsed": false
   },
   "outputs": [
    {
     "name": "stdout",
     "output_type": "stream",
     "text": [
      "{'games': (4, 3, 0),\n",
      " 'losers': ('ATL', 'NL'),\n",
      " 'winners': ('MIN', 'AL'),\n",
      " 'year': 1991}\n"
     ]
    }
   ],
   "source": [
    "# Part 2\n",
    "ws = series_dict['WS']\n",
    "pprint(ws[1])"
   ]
  },
  {
   "cell_type": "code",
   "execution_count": 34,
   "metadata": {
    "collapsed": false
   },
   "outputs": [
    {
     "name": "stdout",
     "output_type": "stream",
     "text": [
      "[1982, 1985, 1986, 1987, 1991, 1997, 2001, 2002, 2011, 2013]\n"
     ]
    }
   ],
   "source": [
    "# Part 3  \n",
    "seven_game_series = []\n",
    "for v in ws:\n",
    "    if (4, 3, 0) == v['games']:\n",
    "        seven_game_series.append(v['year'])\n",
    "\n",
    "seven_game_series.sort()\n",
    "pprint(seven_game_series)"
   ]
  },
  {
   "cell_type": "code",
   "execution_count": 30,
   "metadata": {
    "collapsed": false
   },
   "outputs": [
    {
     "name": "stdout",
     "output_type": "stream",
     "text": [
      "{'ANA': 1,\n",
      " 'ARI': 1,\n",
      " 'ATL': 1,\n",
      " 'BAL': 1,\n",
      " 'BOS': 3,\n",
      " 'CHA': 1,\n",
      " 'CIN': 1,\n",
      " 'DET': 1,\n",
      " 'FLO': 2,\n",
      " 'KCA': 1,\n",
      " 'LAN': 2,\n",
      " 'MIN': 2,\n",
      " 'NYA': 5,\n",
      " 'NYN': 1,\n",
      " 'OAK': 1,\n",
      " 'PHI': 2,\n",
      " 'SFN': 2,\n",
      " 'SLN': 3,\n",
      " 'TOR': 2}\n"
     ]
    }
   ],
   "source": [
    "# Part 4\n",
    "winners = {}\n",
    "for game in ws:\n",
    "    winner = game['winners'][0]\n",
    "    if winner in winners:\n",
    "        winners[winner] += 1\n",
    "    else:\n",
    "        winners[winner] = 1\n",
    "pprint(winners)"
   ]
  },
  {
   "cell_type": "code",
   "execution_count": null,
   "metadata": {
    "collapsed": true
   },
   "outputs": [],
   "source": []
  }
 ],
 "metadata": {
  "kernelspec": {
   "display_name": "Python 3",
   "language": "python",
   "name": "python3"
  },
  "language_info": {
   "codemirror_mode": {
    "name": "ipython",
    "version": 3
   },
   "file_extension": ".py",
   "mimetype": "text/x-python",
   "name": "python",
   "nbconvert_exporter": "python",
   "pygments_lexer": "ipython3",
   "version": "3.5.2"
  }
 },
 "nbformat": 4,
 "nbformat_minor": 2
}
